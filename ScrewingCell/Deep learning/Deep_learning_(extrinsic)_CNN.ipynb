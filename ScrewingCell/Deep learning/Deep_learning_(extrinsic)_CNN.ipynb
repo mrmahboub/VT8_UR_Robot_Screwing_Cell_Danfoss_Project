{
  "nbformat": 4,
  "nbformat_minor": 0,
  "metadata": {
    "colab": {
      "provenance": [],
      "gpuType": "T4",
      "toc_visible": true
    },
    "kernelspec": {
      "name": "python3",
      "display_name": "Python 3"
    },
    "language_info": {
      "name": "python"
    },
    "accelerator": "GPU",
    "gpuClass": "standard"
  },
  "cells": [
    {
      "cell_type": "code",
      "execution_count": null,
      "metadata": {
        "id": "ifZUJTdDuLJC"
      },
      "outputs": [],
      "source": [
        "import keras\n",
        "from keras.models import Sequential\n",
        "from keras.layers import Conv1D, MaxPooling1D\n",
        "from keras.layers import Dense, Dropout, Flatten\n",
        "from sklearn.model_selection import train_test_split\n",
        "from sklearn.preprocessing import LabelEncoder"
      ]
    },
    {
      "cell_type": "markdown",
      "source": [],
      "metadata": {
        "id": "hu_cfL2syxnb"
      }
    },
    {
      "cell_type": "code",
      "source": [
        "from google.colab import drive\n",
        "drive.mount('/content/drive')"
      ],
      "metadata": {
        "colab": {
          "base_uri": "https://localhost:8080/"
        },
        "id": "2c5xhx3rvR4l",
        "outputId": "56af00df-8647-44a2-8b80-2e631ad3ba7f"
      },
      "execution_count": null,
      "outputs": [
        {
          "output_type": "stream",
          "name": "stdout",
          "text": [
            "Mounted at /content/drive\n"
          ]
        }
      ]
    },
    {
      "cell_type": "code",
      "source": [
        "import numpy as np\n",
        "\n",
        "with np.load(r\"/content/drive/MyDrive/ScrewCell/padded_audio (clean).npz\") as data:\n",
        "    X = data['x']\n",
        "    y = data['y']"
      ],
      "metadata": {
        "id": "wHOl2TOSucQm"
      },
      "execution_count": null,
      "outputs": []
    },
    {
      "cell_type": "code",
      "source": [
        "# Convert audio data into numpy array\n",
        "padded_audio_np = np.array(X)\n",
        "\n",
        "# Reshape for convolution\n",
        "X = np.expand_dims(padded_audio_np, axis=2)\n",
        "\n",
        "# Encode labels into integers\n",
        "encoder = LabelEncoder()\n",
        "y = encoder.fit_transform(y)"
      ],
      "metadata": {
        "id": "g_BNSHpHwGjd"
      },
      "execution_count": null,
      "outputs": []
    },
    {
      "cell_type": "code",
      "source": [
        "# Split data into training and test sets\n",
        "X_train, X_test, y_train, y_test = train_test_split(X, y, test_size=0.4, random_state=42)"
      ],
      "metadata": {
        "id": "ETIhhNsbwM0u"
      },
      "execution_count": null,
      "outputs": []
    },
    {
      "cell_type": "code",
      "source": [
        "from tensorflow.keras.models import Sequential\n",
        "from tensorflow.keras.layers import Conv1D, MaxPooling1D, Flatten, Dense, Dropout\n",
        "\n",
        "# Define model\n",
        "model = Sequential()\n",
        "model.add(Conv1D(filters=16, kernel_size=3, activation='relu', input_shape=(X_train.shape[1], 1)))\n",
        "model.add(MaxPooling1D(pool_size=2))\n",
        "model.add(Dropout(0.1))\n",
        "\n",
        "model.add(Conv1D(filters=32, kernel_size=3, activation='relu'))\n",
        "model.add(MaxPooling1D(pool_size=2))\n",
        "model.add(Dropout(0.1))\n",
        "\n",
        "model.add(Conv1D(filters=64, kernel_size=3, activation='relu'))\n",
        "model.add(MaxPooling1D(pool_size=2))\n",
        "model.add(Dropout(0.1))\n",
        "\n",
        "model.add(Flatten())\n",
        "model.add(Dense(64, activation='relu'))\n",
        "model.add(Dropout(0.5))\n",
        "model.add(Dense(len(np.unique(y)), activation='softmax'))  # len(np.unique(y)) is the number of classes\n",
        "\n",
        "# Compile model\n",
        "model.compile(loss='sparse_categorical_crossentropy', optimizer='adam', metrics=['accuracy'])\n",
        "\n",
        "# Train the model\n",
        "model.fit(X_train, y_train, batch_size=32, epochs=10, verbose=1, validation_data=(X_test, y_test))\n"
      ],
      "metadata": {
        "colab": {
          "base_uri": "https://localhost:8080/"
        },
        "id": "EY3iQqmkwQMN",
        "outputId": "4662b922-249a-4718-8141-18e7dd51f293"
      },
      "execution_count": null,
      "outputs": [
        {
          "output_type": "stream",
          "name": "stdout",
          "text": [
            "Epoch 1/10\n",
            "26/26 [==============================] - 20s 232ms/step - loss: 1.5820 - accuracy: 0.2687 - val_loss: 1.5211 - val_accuracy: 0.3371\n",
            "Epoch 2/10\n",
            "26/26 [==============================] - 4s 171ms/step - loss: 1.5796 - accuracy: 0.2687 - val_loss: 1.5626 - val_accuracy: 0.3371\n",
            "Epoch 3/10\n",
            "26/26 [==============================] - 5s 188ms/step - loss: 1.5705 - accuracy: 0.2749 - val_loss: 1.5148 - val_accuracy: 0.2123\n",
            "Epoch 4/10\n",
            "26/26 [==============================] - 5s 191ms/step - loss: 1.3756 - accuracy: 0.4341 - val_loss: 1.0339 - val_accuracy: 0.7151\n",
            "Epoch 5/10\n",
            "26/26 [==============================] - 4s 172ms/step - loss: 0.9380 - accuracy: 0.6530 - val_loss: 0.6969 - val_accuracy: 0.7728\n",
            "Epoch 6/10\n",
            "26/26 [==============================] - 5s 190ms/step - loss: 0.6930 - accuracy: 0.7525 - val_loss: 0.6205 - val_accuracy: 0.8138\n",
            "Epoch 7/10\n",
            "26/26 [==============================] - 5s 190ms/step - loss: 0.5092 - accuracy: 0.8259 - val_loss: 0.5795 - val_accuracy: 0.8585\n",
            "Epoch 8/10\n",
            "26/26 [==============================] - 5s 189ms/step - loss: 0.4016 - accuracy: 0.8607 - val_loss: 0.6520 - val_accuracy: 0.8547\n",
            "Epoch 9/10\n",
            "26/26 [==============================] - 4s 174ms/step - loss: 0.3431 - accuracy: 0.8930 - val_loss: 0.6120 - val_accuracy: 0.8510\n",
            "Epoch 10/10\n",
            "26/26 [==============================] - 5s 190ms/step - loss: 0.2797 - accuracy: 0.9055 - val_loss: 0.6767 - val_accuracy: 0.8585\n"
          ]
        },
        {
          "output_type": "execute_result",
          "data": {
            "text/plain": [
              "<keras.callbacks.History at 0x7f74a82b2e90>"
            ]
          },
          "metadata": {},
          "execution_count": 6
        }
      ]
    },
    {
      "cell_type": "code",
      "source": [
        "# Evaluate the model\n",
        "loss, accuracy = model.evaluate(X_test, y_test, verbose=0)\n",
        "print(f\"Accuracy: {accuracy*100}\")"
      ],
      "metadata": {
        "id": "MuwCxbJQwZV9",
        "colab": {
          "base_uri": "https://localhost:8080/"
        },
        "outputId": "77962bab-8b25-47f6-fb96-b7c8c5b71413"
      },
      "execution_count": null,
      "outputs": [
        {
          "output_type": "stream",
          "name": "stdout",
          "text": [
            "Accuracy: 85.8473002910614\n"
          ]
        }
      ]
    },
    {
      "cell_type": "code",
      "source": [
        "from sklearn.metrics import classification_report, confusion_matrix\n",
        "import seaborn as sns\n",
        "import matplotlib.pyplot as plt\n",
        "\n",
        "# Predict the values from the test dataset\n",
        "y_pred = model.predict(X_test)\n",
        "\n",
        "# Convert predictions classes to one hot vectors\n",
        "y_pred_classes = np.argmax(y_pred, axis = 1)\n",
        "\n",
        "# Convert test observations to one hot vectors\n",
        "#y_true = np.argmax(y_test, axis = 1)\n",
        "\n",
        "# If y_test is not one-hot encoded, you can use it directly\n",
        "y_true = y_test\n",
        "\n",
        "print('Classification Report')\n",
        "print(classification_report(y_true, y_pred_classes, target_names=list(map(str,np.unique(y_true)))))\n",
        "\n",
        "# confusion matrix\n",
        "cm = confusion_matrix(y_true, y_pred_classes)\n",
        "plt.figure(figsize=(10, 10))\n",
        "sns.heatmap(cm, annot=True, fmt='d', cmap='Blues')\n",
        "plt.title('Confusion matrix')\n",
        "plt.ylabel('Actual label')\n",
        "plt.xlabel('Predicted label')\n",
        "plt.show()\n"
      ],
      "metadata": {
        "colab": {
          "base_uri": "https://localhost:8080/",
          "height": 1000
        },
        "id": "4YDZz0-D2S5J",
        "outputId": "a9ac54df-10d2-4444-b756-875291b00acb"
      },
      "execution_count": null,
      "outputs": [
        {
          "output_type": "stream",
          "name": "stdout",
          "text": [
            "17/17 [==============================] - 1s 48ms/step\n",
            "Classification Report\n",
            "              precision    recall  f1-score   support\n",
            "\n",
            "           0       0.94      0.89      0.91       181\n",
            "           1       0.79      0.90      0.84        60\n",
            "           2       0.73      0.89      0.80       114\n",
            "           3       0.82      0.73      0.77        55\n",
            "           4       0.96      0.83      0.89       127\n",
            "\n",
            "    accuracy                           0.86       537\n",
            "   macro avg       0.85      0.85      0.84       537\n",
            "weighted avg       0.87      0.86      0.86       537\n",
            "\n"
          ]
        },
        {
          "output_type": "display_data",
          "data": {
            "text/plain": [
              "<Figure size 1000x1000 with 2 Axes>"
            ],
            "image/png": "[encoded data removed]"
          },
          "metadata": {}
        }
      ]
    },
    {
      "cell_type": "code",
      "source": [
        "!pip install pad_sequences"
      ],
      "metadata": {
        "colab": {
          "base_uri": "https://localhost:8080/"
        },
        "id": "m-rVDJKY_KWh",
        "outputId": "3af8db11-25ca-4543-deff-cbf00fc295d6"
      },
      "execution_count": null,
      "outputs": [
        {
          "output_type": "stream",
          "name": "stdout",
          "text": [
            "Looking in indexes: https://pypi.org/simple, https://us-python.pkg.dev/colab-wheels/public/simple/\n",
            "Collecting pad_sequences\n",
            "  Downloading pad-sequences-0.6.1.tar.gz (9.5 kB)\n",
            "  Preparing metadata (setup.py) ... \u001b[?25l\u001b[?25hdone\n",
            "Building wheels for collected packages: pad_sequences\n",
            "  Building wheel for pad_sequences (setup.py) ... \u001b[?25l\u001b[?25hdone\n",
            "  Created wheel for pad_sequences: filename=pad_sequences-0.6.1-py3-none-any.whl size=10199 sha256=9c539a699e38f205c44ea004a828aeeb6f491e7b98ed3908c480665ebef79091\n",
            "  Stored in directory: /root/.cache/pip/wheels/48/9d/22/0a6305b87a9cc46ccc032060a041c3b59f39ac462f7358997e\n",
            "Successfully built pad_sequences\n",
            "Installing collected packages: pad_sequences\n",
            "Successfully installed pad_sequences-0.6.1\n"
          ]
        }
      ]
    },
    {
      "cell_type": "code",
      "source": [
        "import os\n",
        "import pandas as pd\n",
        "import numpy as np\n",
        "from tensorflow.keras.preprocessing.sequence import pad_sequences\n",
        "\n",
        "data_folder = r\"/content/drive/MyDrive/Intrinsic data\"  # Replace with your folder\n",
        "\n",
        "# Find all csv files\n",
        "csv_files = []\n",
        "labels = []\n",
        "for root, dirs, files in os.walk(data_folder):\n",
        "    for file in files:\n",
        "        if file.endswith('.csv'):  # Adjust this if you're using a different file format\n",
        "            csv_files.append(os.path.join(root, file))\n",
        "            labels.append(os.path.basename(root))\n",
        "\n",
        "# Load data\n",
        "data_list = [pd.read_csv(file).values for file in csv_files]\n",
        "\n",
        "# Find max sequence length\n",
        "max_len = max(len(data) for data in data_list)\n",
        "\n",
        "# Pad sequences\n",
        "padded_data = pad_sequences(data_list, maxlen=max_len, dtype='float32')\n",
        "\n",
        "# Convert labels to numerical\n",
        "unique_labels = np.unique(labels)\n",
        "label_dict = {label: i for i, label in enumerate(unique_labels)}\n",
        "num_labels = [label_dict[label] for label in labels]"
      ],
      "metadata": {
        "colab": {
          "base_uri": "https://localhost:8080/",
          "height": 235
        },
        "id": "g4KTLjOz66LL",
        "outputId": "fce2df74-af31-455f-ed4b-e1295b76a7c2"
      },
      "execution_count": null,
      "outputs": [
        {
          "output_type": "error",
          "ename": "ValueError",
          "evalue": "ignored",
          "traceback": [
            "\u001b[0;31m---------------------------------------------------------------------------\u001b[0m",
            "\u001b[0;31mValueError\u001b[0m                                Traceback (most recent call last)",
            "\u001b[0;32m<ipython-input-17-6240204e2524>\u001b[0m in \u001b[0;36m<cell line: 21>\u001b[0;34m()\u001b[0m\n\u001b[1;32m     19\u001b[0m \u001b[0;34m\u001b[0m\u001b[0m\n\u001b[1;32m     20\u001b[0m \u001b[0;31m# Find max sequence length\u001b[0m\u001b[0;34m\u001b[0m\u001b[0;34m\u001b[0m\u001b[0m\n\u001b[0;32m---> 21\u001b[0;31m \u001b[0mmax_len\u001b[0m \u001b[0;34m=\u001b[0m \u001b[0mmax\u001b[0m\u001b[0;34m(\u001b[0m\u001b[0mlen\u001b[0m\u001b[0;34m(\u001b[0m\u001b[0mdata\u001b[0m\u001b[0;34m)\u001b[0m \u001b[0;32mfor\u001b[0m \u001b[0mdata\u001b[0m \u001b[0;32min\u001b[0m \u001b[0mdata_list\u001b[0m\u001b[0;34m)\u001b[0m\u001b[0;34m\u001b[0m\u001b[0;34m\u001b[0m\u001b[0m\n\u001b[0m\u001b[1;32m     22\u001b[0m \u001b[0;34m\u001b[0m\u001b[0m\n\u001b[1;32m     23\u001b[0m \u001b[0;31m# Pad sequences\u001b[0m\u001b[0;34m\u001b[0m\u001b[0;34m\u001b[0m\u001b[0m\n",
            "\u001b[0;31mValueError\u001b[0m: max() arg is an empty sequence"
          ]
        }
      ]
    }
  ]
}