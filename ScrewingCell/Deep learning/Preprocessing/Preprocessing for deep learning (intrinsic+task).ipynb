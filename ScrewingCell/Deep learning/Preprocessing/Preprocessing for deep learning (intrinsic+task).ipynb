{
 "cells": [
  {
   "cell_type": "code",
   "execution_count": 1,
   "id": "d6f69c6b",
   "metadata": {},
   "outputs": [],
   "source": [
    "import os\n",
    "import pandas as pd"
   ]
  },
  {
   "cell_type": "code",
   "execution_count": 2,
   "id": "03fb7523",
   "metadata": {},
   "outputs": [],
   "source": [
    "intrinsic = pd.read_hdf(r\"C:\\Users\\GHB\\Desktop\\SCREW PROJECT\\Machine Learning\\Dataset.h5\", key='dataset')\n",
    "task = pd.read_csv(r\"C:\\Users\\GHB\\Desktop\\SCREW PROJECT\\Machine Learning\\Test\\resampled.csv\")"
   ]
  },
  {
   "cell_type": "code",
   "execution_count": 3,
   "id": "2976a31e",
   "metadata": {},
   "outputs": [
    {
     "name": "stdout",
     "output_type": "stream",
     "text": [
      "       Unnamed: 0         Source  Time (ms)          Type  Value\n",
      "0               0  t030520234000      1.487    TCP_x (mm)   0.00\n",
      "1               1  t030520234000      2.487    TCP_x (mm)   0.00\n",
      "2               2  t030520234000      3.487    TCP_x (mm)   0.00\n",
      "3               3  t030520234000      4.487    TCP_x (mm)   0.00\n",
      "4               4  t030520234000      5.487    TCP_x (mm)   0.00\n",
      "...           ...            ...        ...           ...    ...\n",
      "55463       55463  t030520235007   1818.985  TCP_rz (rad)  -1.21\n",
      "55464       55464  t030520235007   1819.985  TCP_rz (rad)  -1.21\n",
      "55465       55465  t030520235007   1820.985  TCP_rz (rad)  -1.21\n",
      "55466       55466  t030520235007   1821.985  TCP_rz (rad)  -1.21\n",
      "55467       55467  t030520235007   1822.985  TCP_rz (rad)  -1.21\n",
      "\n",
      "[55468 rows x 5 columns]\n"
     ]
    }
   ],
   "source": [
    "print(task)"
   ]
  },
  {
   "cell_type": "code",
   "execution_count": 4,
   "id": "78565156",
   "metadata": {},
   "outputs": [
    {
     "name": "stdout",
     "output_type": "stream",
     "text": [
      "                  Source  Time (ms)          Type     Value\n",
      "0          i030520235006        0.0  Nset (1/min)  0.000000\n",
      "1          i030520235068        0.0  Nset (1/min)  0.000000\n",
      "2          i050520238018        0.0   Angle (deg)  0.000000\n",
      "3          i030520237070        0.0   Angle (deg)  0.000000\n",
      "4          i280420232085        0.0   Angle (deg)  0.000000\n",
      "...                  ...        ...           ...       ...\n",
      "32850565   i050520239058     4020.0   Torque (Nm)  0.019719\n",
      "32850566   i050520239037     4020.0   Current (V) -0.000610\n",
      "32850567  i1005202311022     4020.0  Nset (1/min)  0.000000\n",
      "32850568   i050520239046     4020.0  Nset (1/min)  0.000000\n",
      "32850569  i1005202311003     4020.0  Nset (1/min)  0.000000\n",
      "\n",
      "[20469635 rows x 4 columns]\n"
     ]
    }
   ],
   "source": [
    "intrinsic = intrinsic[intrinsic[\"Source\"].str.startswith(\"i\")]\n",
    "print(intrinsic)"
   ]
  },
  {
   "cell_type": "code",
   "execution_count": 5,
   "id": "dbc3db4e",
   "metadata": {},
   "outputs": [],
   "source": [
    "# Assume df1 and df2 are your dataframes\n",
    "df = pd.concat([intrinsic, task], ignore_index=True)"
   ]
  },
  {
   "cell_type": "code",
   "execution_count": 6,
   "id": "e121a959",
   "metadata": {},
   "outputs": [
    {
     "name": "stdout",
     "output_type": "stream",
     "text": [
      "                 Source  Time (ms)          Type  Value\n",
      "0         i030520235006      0.000  Nset (1/min)   0.00\n",
      "1         i030520235068      0.000  Nset (1/min)   0.00\n",
      "2         i050520238018      0.000   Angle (deg)   0.00\n",
      "3         i030520237070      0.000   Angle (deg)   0.00\n",
      "4         i280420232085      0.000   Angle (deg)   0.00\n",
      "...                 ...        ...           ...    ...\n",
      "20525098  t030520235007   1818.985  TCP_rz (rad)  -1.21\n",
      "20525099  t030520235007   1819.985  TCP_rz (rad)  -1.21\n",
      "20525100  t030520235007   1820.985  TCP_rz (rad)  -1.21\n",
      "20525101  t030520235007   1821.985  TCP_rz (rad)  -1.21\n",
      "20525102  t030520235007   1822.985  TCP_rz (rad)  -1.21\n",
      "\n",
      "[20525103 rows x 4 columns]\n"
     ]
    }
   ],
   "source": [
    "df = df.drop(\"Unnamed: 0\", axis=1)\n",
    "print(df)"
   ]
  },
  {
   "cell_type": "code",
   "execution_count": 7,
   "id": "ddf22ec4",
   "metadata": {},
   "outputs": [
    {
     "name": "stdout",
     "output_type": "stream",
     "text": [
      "                  Source  Time (ms)          Type  Value\n",
      "0         id030520235006      0.000  Nset (1/min)   0.00\n",
      "1         id030520235068      0.000  Nset (1/min)   0.00\n",
      "2         id050520238018      0.000   Angle (deg)   0.00\n",
      "3         id030520237070      0.000   Angle (deg)   0.00\n",
      "4         id280420232085      0.000   Angle (deg)   0.00\n",
      "...                  ...        ...           ...    ...\n",
      "20525098  id030520235007   1818.985  TCP_rz (rad)  -1.21\n",
      "20525099  id030520235007   1819.985  TCP_rz (rad)  -1.21\n",
      "20525100  id030520235007   1820.985  TCP_rz (rad)  -1.21\n",
      "20525101  id030520235007   1821.985  TCP_rz (rad)  -1.21\n",
      "20525102  id030520235007   1822.985  TCP_rz (rad)  -1.21\n",
      "\n",
      "[20525103 rows x 4 columns]\n"
     ]
    }
   ],
   "source": [
    "df['Source'] = 'id_' + df['Source']\n",
    "\n",
    "# Replace \"idt\" with \"id\" in the column\n",
    "df['Source'] = df['Source'].str.replace('id_t', 'id', regex=True)\n",
    "df['Source'] = df['Source'].str.replace('id_i', 'id', regex=True)\n",
    "print(df)"
   ]
  },
  {
   "cell_type": "code",
   "execution_count": 8,
   "id": "98251cfa",
   "metadata": {},
   "outputs": [
    {
     "name": "stdout",
     "output_type": "stream",
     "text": [
      "                  Source  Time (ms)          Type  Value\n",
      "0         id030520235006      0.000  Nset (1/min)   0.00\n",
      "1         id030520235068      0.000  Nset (1/min)   0.00\n",
      "2         id050520238018      0.000   Angle (deg)   0.00\n",
      "3         id030520237070      0.000   Angle (deg)   0.00\n",
      "4         id280420232085      0.000   Angle (deg)   0.00\n",
      "...                  ...        ...           ...    ...\n",
      "20525098  id030520235007   1818.985  TCP_rz (rad)  -1.21\n",
      "20525099  id030520235007   1819.985  TCP_rz (rad)  -1.21\n",
      "20525100  id030520235007   1820.985  TCP_rz (rad)  -1.21\n",
      "20525101  id030520235007   1821.985  TCP_rz (rad)  -1.21\n",
      "20525102  id030520235007   1822.985  TCP_rz (rad)  -1.21\n",
      "\n",
      "[20525103 rows x 4 columns]\n"
     ]
    }
   ],
   "source": [
    "print(df)"
   ]
  },
  {
   "cell_type": "code",
   "execution_count": 9,
   "id": "d73b9253",
   "metadata": {},
   "outputs": [],
   "source": [
    "df.to_csv(r\"C:\\Users\\GHB\\Desktop\\SCREW PROJECT\\Machine Learning\\Deep learning\\intrinsic_task_deep.csv\")"
   ]
  },
  {
   "cell_type": "code",
   "execution_count": null,
   "id": "0ebd818e",
   "metadata": {},
   "outputs": [],
   "source": []
  }
 ],
 "metadata": {
  "kernelspec": {
   "display_name": "Python 3 (ipykernel)",
   "language": "python",
   "name": "python3"
  },
  "language_info": {
   "codemirror_mode": {
    "name": "ipython",
    "version": 3
   },
   "file_extension": ".py",
   "mimetype": "text/x-python",
   "name": "python",
   "nbconvert_exporter": "python",
   "pygments_lexer": "ipython3",
   "version": "3.9.7"
  }
 },
 "nbformat": 4,
 "nbformat_minor": 5
}
