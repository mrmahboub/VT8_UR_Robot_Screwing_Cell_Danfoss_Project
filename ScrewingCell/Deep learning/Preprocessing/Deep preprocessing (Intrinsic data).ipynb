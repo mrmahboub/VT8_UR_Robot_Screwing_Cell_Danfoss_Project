{
 "cells": [
  {
   "cell_type": "code",
   "execution_count": 1,
   "id": "41d67ef4",
   "metadata": {},
   "outputs": [],
   "source": [
    "import os\n",
    "import pandas as pd"
   ]
  },
  {
   "cell_type": "code",
   "execution_count": 2,
   "id": "0d2ec599",
   "metadata": {},
   "outputs": [],
   "source": [
    "import os\n",
    "import pandas as pd\n",
    "import numpy as np\n",
    "from tensorflow.keras.preprocessing.sequence import pad_sequences\n",
    "\n",
    "data_folder = r\"C:\\Users\\GHB\\Desktop\\SCREW PROJECT\\Machine Learning\\Final data\\Intrinsic data\"  # Replace with your folder\n",
    "\n",
    "# Find all csv files\n",
    "csv_files = []\n",
    "labels = []\n",
    "for root, dirs, files in os.walk(data_folder):\n",
    "    for file in files:\n",
    "        if file.endswith('.csv'):  # Adjust this if you're using a different file format\n",
    "            csv_files.append(os.path.join(root, file))\n",
    "            labels.append(os.path.basename(root))\n",
    "\n",
    "# Load data\n",
    "data_list = [pd.read_csv(file).values for file in csv_files]\n",
    "\n",
    "# Find max sequence length\n",
    "max_len = max(len(data) for data in data_list)\n",
    "\n",
    "# Pad sequences\n",
    "padded_data = pad_sequences(data_list, maxlen=max_len, dtype='float32')\n",
    "\n",
    "# Convert labels to numerical\n",
    "unique_labels = np.unique(labels)\n",
    "label_dict = {label: i for i, label in enumerate(unique_labels)}\n",
    "num_labels = [label_dict[label] for label in labels]"
   ]
  },
  {
   "cell_type": "code",
   "execution_count": 9,
   "id": "ebf4a698",
   "metadata": {},
   "outputs": [
    {
     "name": "stdout",
     "output_type": "stream",
     "text": [
      "1341\n"
     ]
    }
   ],
   "source": [
    "print(len(num_labels))"
   ]
  },
  {
   "cell_type": "code",
   "execution_count": 10,
   "id": "00002833",
   "metadata": {},
   "outputs": [],
   "source": [
    "# Save data\n",
    "np.savez(r'C:\\Users\\GHB\\Desktop\\SCREW PROJECT\\Machine Learning\\Deep learning\\Intrinsic\\padded_intrinsic.npz', x=padded_data, y=labels)"
   ]
  },
  {
   "cell_type": "code",
   "execution_count": null,
   "id": "c257e284",
   "metadata": {},
   "outputs": [],
   "source": []
  }
 ],
 "metadata": {
  "kernelspec": {
   "display_name": "dl_env",
   "language": "python",
   "name": "dl_env"
  },
  "language_info": {
   "codemirror_mode": {
    "name": "ipython",
    "version": 3
   },
   "file_extension": ".py",
   "mimetype": "text/x-python",
   "name": "python",
   "nbconvert_exporter": "python",
   "pygments_lexer": "ipython3",
   "version": "3.9.16"
  }
 },
 "nbformat": 4,
 "nbformat_minor": 5
}
