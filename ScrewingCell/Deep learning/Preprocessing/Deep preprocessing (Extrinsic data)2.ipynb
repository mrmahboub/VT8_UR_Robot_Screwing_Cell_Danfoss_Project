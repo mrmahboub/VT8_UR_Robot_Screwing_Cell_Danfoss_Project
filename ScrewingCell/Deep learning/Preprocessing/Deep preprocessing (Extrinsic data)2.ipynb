{
 "cells": [
  {
   "cell_type": "code",
   "execution_count": 1,
   "id": "41d67ef4",
   "metadata": {},
   "outputs": [],
   "source": [
    "import os\n",
    "import librosa\n",
    "import pandas as pd"
   ]
  },
  {
   "cell_type": "code",
   "execution_count": 3,
   "id": "0109fde8",
   "metadata": {},
   "outputs": [
    {
     "ename": "AttributeError",
     "evalue": "module 'librosa' has no attribute 'load'",
     "output_type": "error",
     "traceback": [
      "\u001b[1;31m---------------------------------------------------------------------------\u001b[0m",
      "\u001b[1;31mAttributeError\u001b[0m                            Traceback (most recent call last)",
      "Cell \u001b[1;32mIn[3], line 65\u001b[0m\n\u001b[0;32m     63\u001b[0m \u001b[38;5;66;03m# Running the function\u001b[39;00m\n\u001b[0;32m     64\u001b[0m data_folder \u001b[38;5;241m=\u001b[39m \u001b[38;5;124mr\u001b[39m\u001b[38;5;124m\"\u001b[39m\u001b[38;5;124mC:\u001b[39m\u001b[38;5;124m\\\u001b[39m\u001b[38;5;124mUsers\u001b[39m\u001b[38;5;124m\\\u001b[39m\u001b[38;5;124mGHB\u001b[39m\u001b[38;5;124m\\\u001b[39m\u001b[38;5;124mDesktop\u001b[39m\u001b[38;5;124m\\\u001b[39m\u001b[38;5;124mSCREW PROJECT\u001b[39m\u001b[38;5;124m\\\u001b[39m\u001b[38;5;124mMachine Learning\u001b[39m\u001b[38;5;124m\\\u001b[39m\u001b[38;5;124mFinal data\u001b[39m\u001b[38;5;124m\\\u001b[39m\u001b[38;5;124mExtrinsic data (clean)\u001b[39m\u001b[38;5;124m\"\u001b[39m\n\u001b[1;32m---> 65\u001b[0m \u001b[43mpreprocess_audio_files\u001b[49m\u001b[43m(\u001b[49m\u001b[43mdata_folder\u001b[49m\u001b[43m)\u001b[49m\n",
      "Cell \u001b[1;32mIn[3], line 25\u001b[0m, in \u001b[0;36mpreprocess_audio_files\u001b[1;34m(data_folder)\u001b[0m\n\u001b[0;32m     22\u001b[0m file_path \u001b[38;5;241m=\u001b[39m os\u001b[38;5;241m.\u001b[39mpath\u001b[38;5;241m.\u001b[39mjoin(subfolder_path, filename)\n\u001b[0;32m     24\u001b[0m \u001b[38;5;66;03m# Load the audio file\u001b[39;00m\n\u001b[1;32m---> 25\u001b[0m y, sr \u001b[38;5;241m=\u001b[39m \u001b[43mlibrosa\u001b[49m\u001b[38;5;241;43m.\u001b[39;49m\u001b[43mload\u001b[49m(file_path, sr\u001b[38;5;241m=\u001b[39msr)\n\u001b[0;32m     27\u001b[0m \u001b[38;5;66;03m# Get duration\u001b[39;00m\n\u001b[0;32m     28\u001b[0m duration \u001b[38;5;241m=\u001b[39m librosa\u001b[38;5;241m.\u001b[39mget_duration(y\u001b[38;5;241m=\u001b[39my, sr\u001b[38;5;241m=\u001b[39msr)\n",
      "\u001b[1;31mAttributeError\u001b[0m: module 'librosa' has no attribute 'load'"
     ]
    }
   ],
   "source": [
    "import os\n",
    "import numpy as np\n",
    "import librosa\n",
    "\n",
    "def preprocess_audio_files(data_folder):\n",
    "    sr = 44100  # sample rate\n",
    "    max_duration = 0  # max duration in seconds\n",
    "    max_length = 0  # max length in samples\n",
    "    sr = 44100\n",
    "\n",
    "    # First, find the longest audio file\n",
    "    subfolders = os.listdir(data_folder)\n",
    "\n",
    "    for i, subfolder in enumerate(subfolders):\n",
    "        subfolder_path = os.path.join(data_folder, subfolder)\n",
    "\n",
    "        if not os.path.isdir(subfolder_path):\n",
    "            continue\n",
    "\n",
    "        for filename in os.listdir(subfolder_path):\n",
    "            if filename.endswith('.wav'):\n",
    "                file_path = os.path.join(subfolder_path, filename)\n",
    "\n",
    "                # Load the audio file\n",
    "                y, sr = librosa.load(file_path, sr=sr)\n",
    "\n",
    "                # Get duration\n",
    "                duration = librosa.get_duration(y=y, sr=sr)\n",
    "\n",
    "                if duration > max_duration:\n",
    "                    max_duration = duration\n",
    "                    max_length = len(y)\n",
    "\n",
    "    max_length = int(max_length)  # ensure max_length is an integer\n",
    "\n",
    "    # Next, pad all audio files to match the length of the longest file\n",
    "    for i, subfolder in enumerate(subfolders):\n",
    "        subfolder_path = os.path.join(data_folder, subfolder)\n",
    "\n",
    "        if not os.path.isdir(subfolder_path):\n",
    "            continue\n",
    "\n",
    "        for filename in os.listdir(subfolder_path):\n",
    "            if filename.endswith('.wav'):\n",
    "                file_path = os.path.join(subfolder_path, filename)\n",
    "\n",
    "                # Load the audio file\n",
    "                y, sr = librosa.load(file_path, sr=sr)\n",
    "\n",
    "                # Pad the audio file to max_length\n",
    "                if len(y) < max_length:\n",
    "                    y_padded = np.pad(y, (0, max_length - len(y)))  # pads with zeros at the end\n",
    "                else:\n",
    "                    y_padded = y\n",
    "\n",
    "                # Save the padded audio file\n",
    "                padded_file_path = os.path.join(subfolder_path, f'padded_{filename}')\n",
    "                librosa.output.write_wav(padded_file_path, y_padded, sr)\n",
    "\n",
    "    print(f'Max duration: {max_duration} seconds')\n",
    "    print(f'Max length: {max_length} samples')\n",
    "\n",
    "# Running the function\n",
    "data_folder = r\"C:\\Users\\GHB\\Desktop\\SCREW PROJECT\\Machine Learning\\Final data\\Extrinsic data (clean)\"\n",
    "preprocess_audio_files(data_folder)\n"
   ]
  },
  {
   "cell_type": "code",
   "execution_count": 4,
   "id": "6abc6c6b",
   "metadata": {},
   "outputs": [
    {
     "ename": "AttributeError",
     "evalue": "module 'librosa' has no attribute 'load'",
     "output_type": "error",
     "traceback": [
      "\u001b[1;31m---------------------------------------------------------------------------\u001b[0m",
      "\u001b[1;31mAttributeError\u001b[0m                            Traceback (most recent call last)",
      "Cell \u001b[1;32mIn[4], line 19\u001b[0m\n\u001b[0;32m     17\u001b[0m max_length \u001b[38;5;241m=\u001b[39m \u001b[38;5;241m0\u001b[39m\n\u001b[0;32m     18\u001b[0m \u001b[38;5;28;01mfor\u001b[39;00m audio_file \u001b[38;5;129;01min\u001b[39;00m audio_files:\n\u001b[1;32m---> 19\u001b[0m     audio, sr \u001b[38;5;241m=\u001b[39m \u001b[43mlibrosa\u001b[49m\u001b[38;5;241;43m.\u001b[39;49m\u001b[43mload\u001b[49m(audio_file)\n\u001b[0;32m     20\u001b[0m     \u001b[38;5;28;01mif\u001b[39;00m \u001b[38;5;28mlen\u001b[39m(audio) \u001b[38;5;241m>\u001b[39m max_length:\n\u001b[0;32m     21\u001b[0m         max_length \u001b[38;5;241m=\u001b[39m \u001b[38;5;28mlen\u001b[39m(audio)\n",
      "\u001b[1;31mAttributeError\u001b[0m: module 'librosa' has no attribute 'load'"
     ]
    }
   ],
   "source": [
    "import os\n",
    "import glob\n",
    "import librosa\n",
    "import numpy as np\n",
    "\n",
    "# Find all audio files and labels\n",
    "audio_files = []\n",
    "labels = []\n",
    "\n",
    "for root, dirs, files in os.walk(r\"C:\\Users\\GHB\\Desktop\\SCREW PROJECT\\Machine Learning\\Final data\\Extrinsic data (clean)\"):  # Replace '.' with your top-level directory\n",
    "    for file in files:\n",
    "        if file.endswith('.wav'):  # Adjust this if you're using a different file format\n",
    "            audio_files.append(os.path.join(root, file))\n",
    "            labels.append(os.path.basename(root))  # Label is the base name of the directory containing the file\n",
    "\n",
    "# Find the longest audio file\n",
    "max_length = 0\n",
    "for audio_file in audio_files:\n",
    "    audio, sr = librosa.load(audio_file)\n",
    "    if len(audio) > max_length:\n",
    "        max_length = len(audio)\n",
    "max_length_seconds = max_length / sr  # Convert from samples to seconds\n",
    "\n",
    "# Define the padding function\n",
    "def pad_audio(audio_path, target_length, sr=44100):\n",
    "    audio, _ = librosa.load(audio_path, sr=sr)  # Load audio\n",
    "    length = len(audio)\n",
    "    target_samples = int(target_length * sr)  # Calculate the target number of samples\n",
    "\n",
    "    if length < target_samples:  # If the audio is shorter than the target length\n",
    "        # Pad the audio with zeros at the end\n",
    "        audio = np.concatenate([audio, np.zeros(target_samples - length)])\n",
    "    elif length > target_samples:  # If the audio is longer than the target length\n",
    "        # Trim the audio to the target length\n",
    "        audio = audio[:target_samples]\n",
    "\n",
    "    return audio\n",
    "\n",
    "# Pad all audio files to the length of the longest audio file\n",
    "padded_audio_files = []\n",
    "for audio_file in audio_files:\n",
    "    padded_audio = pad_audio(audio_file, max_length_seconds, sr)\n",
    "    padded_audio_files.append(padded_audio)\n"
   ]
  },
  {
   "cell_type": "code",
   "execution_count": 9,
   "id": "66c4a4ad",
   "metadata": {},
   "outputs": [
    {
     "name": "stdout",
     "output_type": "stream",
     "text": [
      "[-6.28574881e-08 -1.60502241e-05  2.53893813e-06 ...  0.00000000e+00\n",
      "  0.00000000e+00  0.00000000e+00]\n",
      "N\n"
     ]
    }
   ],
   "source": [
    "print(padded_audio_files[0])\n",
    "print(labels[0])"
   ]
  },
  {
   "cell_type": "code",
   "execution_count": 13,
   "id": "e58a5710",
   "metadata": {},
   "outputs": [],
   "source": [
    "# Save data\n",
    "np.savez(r'C:\\Users\\GHB\\Desktop\\SCREW PROJECT\\Machine Learning\\Deep learning\\Extrinsic\\padded_audio (clean).npz', x=padded_audio_files, y=labels)"
   ]
  },
  {
   "cell_type": "code",
   "execution_count": null,
   "id": "0d2ec599",
   "metadata": {},
   "outputs": [],
   "source": []
  }
 ],
 "metadata": {
  "kernelspec": {
   "display_name": "dl_env",
   "language": "python",
   "name": "dl_env"
  },
  "language_info": {
   "codemirror_mode": {
    "name": "ipython",
    "version": 3
   },
   "file_extension": ".py",
   "mimetype": "text/x-python",
   "name": "python",
   "nbconvert_exporter": "python",
   "pygments_lexer": "ipython3",
   "version": "3.9.16"
  }
 },
 "nbformat": 4,
 "nbformat_minor": 5
}
