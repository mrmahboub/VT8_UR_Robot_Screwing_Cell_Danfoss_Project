{
  "nbformat": 4,
  "nbformat_minor": 0,
  "metadata": {
    "colab": {
      "provenance": [],
      "gpuType": "A100"
    },
    "kernelspec": {
      "name": "python3",
      "display_name": "Python 3"
    },
    "language_info": {
      "name": "python"
    },
    "accelerator": "GPU"
  },
  "cells": [
    {
      "cell_type": "code",
      "execution_count": null,
      "metadata": {
        "id": "6KjrsX3WD0SC"
      },
      "outputs": [],
      "source": [
        "import os\n",
        "import librosa\n",
        "import pandas as pd\n",
        "import numpy as np"
      ]
    },
    {
      "cell_type": "code",
      "source": [
        "from google.colab import drive\n",
        "drive.mount('/content/drive')"
      ],
      "metadata": {
        "colab": {
          "base_uri": "https://localhost:8080/"
        },
        "id": "5qn5h7keD917",
        "outputId": "d6d592ab-d01f-4c1e-c7fd-918e5ed3b3fa"
      },
      "execution_count": null,
      "outputs": [
        {
          "output_type": "stream",
          "name": "stdout",
          "text": [
            "Mounted at /content/drive\n"
          ]
        }
      ]
    },
    {
      "cell_type": "code",
      "source": [
        "import os\n",
        "import glob\n",
        "import librosa\n",
        "import numpy as np\n",
        "\n",
        "# Find all audio files and labels\n",
        "audio_files = []\n",
        "labels = []\n",
        "\n",
        "for root, dirs, files in os.walk(r\"/content/drive/MyDrive/ScrewCell/Extrinsic data (clean)\"):  # Replace '.' with your top-level directory\n",
        "    for file in files:\n",
        "        if file.endswith('.wav'):  # Adjust this if you're using a different file format\n",
        "            audio_files.append(os.path.join(root, file))\n",
        "            labels.append(os.path.basename(root))  # Label is the base name of the directory containing the file\n",
        "\n",
        "# Find the longest audio file\n",
        "max_length = 0\n",
        "for audio_file in audio_files:\n",
        "    audio, sr = librosa.load(audio_file)\n",
        "    if len(audio) > max_length:\n",
        "        max_length = len(audio)\n",
        "max_length_seconds = max_length / sr  # Convert from samples to seconds\n",
        "\n",
        "# Define the padding function\n",
        "def pad_audio(audio_path, target_length, sr=44100):\n",
        "    audio, _ = librosa.load(audio_path, sr=sr)  # Load audio\n",
        "    length = len(audio)\n",
        "    target_samples = int(target_length * sr)  # Calculate the target number of samples\n",
        "\n",
        "    if length < target_samples:  # If the audio is shorter than the target length\n",
        "        # Pad the audio with zeros at the end\n",
        "        audio = np.concatenate([audio, np.zeros(target_samples - length)])\n",
        "    elif length > target_samples:  # If the audio is longer than the target length\n",
        "        # Trim the audio to the target length\n",
        "        audio = audio[:target_samples]\n",
        "\n",
        "    return audio\n",
        "\n",
        "# Pad all audio files to the length of the longest audio file\n",
        "padded_audio_files = []\n",
        "for audio_file in audio_files:\n",
        "    padded_audio = pad_audio(audio_file, max_length_seconds, sr)\n",
        "    padded_audio_files.append(padded_audio)"
      ],
      "metadata": {
        "id": "9LM7u3FqEICD"
      },
      "execution_count": null,
      "outputs": []
    },
    {
      "cell_type": "code",
      "source": [
        "print(padded_audio_files[1340])\n",
        "print(labels[1340])\n"
      ],
      "metadata": {
        "colab": {
          "base_uri": "https://localhost:8080/"
        },
        "id": "L02u73rEFajk",
        "outputId": "e43514c9-e274-41d4-8b70-4448a9d4baac"
      },
      "execution_count": null,
      "outputs": [
        {
          "output_type": "stream",
          "name": "stdout",
          "text": [
            "[ 8.82107997e-07 -2.13896274e-05 -3.44190630e-05 ...  0.00000000e+00\n",
            "  0.00000000e+00  0.00000000e+00]\n",
            "UT\n"
          ]
        }
      ]
    },
    {
      "cell_type": "code",
      "source": [
        "# Save data\n",
        "np.savez(r\"/content/drive/MyDrive/ScrewCell/padded_audio (clean)\", x=padded_audio_files, y=labels)\n",
        "\n"
      ],
      "metadata": {
        "id": "QbkNSkFsGEtj"
      },
      "execution_count": null,
      "outputs": []
    },
    {
      "cell_type": "markdown",
      "source": [],
      "metadata": {
        "id": "pJxwdvZUFU56"
      }
    }
  ]
}