{
 "cells": [
  {
   "cell_type": "markdown",
   "id": "45dbaa59",
   "metadata": {},
   "source": [
    "SVM_algorithm"
   ]
  },
  {
   "cell_type": "code",
   "execution_count": 1,
   "id": "d2a9a453",
   "metadata": {},
   "outputs": [],
   "source": [
    "import pandas as pd\n",
    "from sklearn.model_selection import train_test_split\n",
    "from sklearn.svm import SVC\n",
    "from sklearn.metrics import classification_report\n",
    "from sklearn.model_selection import train_test_split\n",
    "from sklearn.ensemble import RandomForestClassifier\n",
    "from sklearn.metrics import accuracy_score\n",
    "from sklearn.preprocessing import LabelEncoder\n"
   ]
  },
  {
   "cell_type": "code",
   "execution_count": 3,
   "id": "1f248652",
   "metadata": {},
   "outputs": [
    {
     "ename": "FileNotFoundError",
     "evalue": "[Errno 2] No such file or directory: 'C:\\\\Users\\\\GHB\\\\Desktop\\\\SCREW PROJECT\\\\Machine Learning\\\\Features\\\\tsfresh_efficient_features.csv'",
     "output_type": "error",
     "traceback": [
      "\u001b[1;31m---------------------------------------------------------------------------\u001b[0m",
      "\u001b[1;31mFileNotFoundError\u001b[0m                         Traceback (most recent call last)",
      "\u001b[1;32m~\\AppData\\Local\\Temp/ipykernel_9356/2292449318.py\u001b[0m in \u001b[0;36m<module>\u001b[1;34m\u001b[0m\n\u001b[1;32m----> 1\u001b[1;33m \u001b[0mfeature_df\u001b[0m \u001b[1;33m=\u001b[0m \u001b[0mpd\u001b[0m\u001b[1;33m.\u001b[0m\u001b[0mread_csv\u001b[0m\u001b[1;33m(\u001b[0m\u001b[1;34mr\"C:\\Users\\GHB\\Desktop\\SCREW PROJECT\\Machine Learning\\Features\\tsfresh_efficient_features.csv\"\u001b[0m\u001b[1;33m)\u001b[0m\u001b[1;33m\u001b[0m\u001b[1;33m\u001b[0m\u001b[0m\n\u001b[0m\u001b[0;32m      2\u001b[0m \u001b[0mprint\u001b[0m\u001b[1;33m(\u001b[0m\u001b[0mfeature_df\u001b[0m\u001b[1;33m)\u001b[0m\u001b[1;33m\u001b[0m\u001b[1;33m\u001b[0m\u001b[0m\n",
      "\u001b[1;32mG:\\PROGRAMI\\Anaconda3\\lib\\site-packages\\pandas\\util\\_decorators.py\u001b[0m in \u001b[0;36mwrapper\u001b[1;34m(*args, **kwargs)\u001b[0m\n\u001b[0;32m    309\u001b[0m                     \u001b[0mstacklevel\u001b[0m\u001b[1;33m=\u001b[0m\u001b[0mstacklevel\u001b[0m\u001b[1;33m,\u001b[0m\u001b[1;33m\u001b[0m\u001b[1;33m\u001b[0m\u001b[0m\n\u001b[0;32m    310\u001b[0m                 )\n\u001b[1;32m--> 311\u001b[1;33m             \u001b[1;32mreturn\u001b[0m \u001b[0mfunc\u001b[0m\u001b[1;33m(\u001b[0m\u001b[1;33m*\u001b[0m\u001b[0margs\u001b[0m\u001b[1;33m,\u001b[0m \u001b[1;33m**\u001b[0m\u001b[0mkwargs\u001b[0m\u001b[1;33m)\u001b[0m\u001b[1;33m\u001b[0m\u001b[1;33m\u001b[0m\u001b[0m\n\u001b[0m\u001b[0;32m    312\u001b[0m \u001b[1;33m\u001b[0m\u001b[0m\n\u001b[0;32m    313\u001b[0m         \u001b[1;32mreturn\u001b[0m \u001b[0mwrapper\u001b[0m\u001b[1;33m\u001b[0m\u001b[1;33m\u001b[0m\u001b[0m\n",
      "\u001b[1;32mG:\\PROGRAMI\\Anaconda3\\lib\\site-packages\\pandas\\io\\parsers\\readers.py\u001b[0m in \u001b[0;36mread_csv\u001b[1;34m(filepath_or_buffer, sep, delimiter, header, names, index_col, usecols, squeeze, prefix, mangle_dupe_cols, dtype, engine, converters, true_values, false_values, skipinitialspace, skiprows, skipfooter, nrows, na_values, keep_default_na, na_filter, verbose, skip_blank_lines, parse_dates, infer_datetime_format, keep_date_col, date_parser, dayfirst, cache_dates, iterator, chunksize, compression, thousands, decimal, lineterminator, quotechar, quoting, doublequote, escapechar, comment, encoding, encoding_errors, dialect, error_bad_lines, warn_bad_lines, on_bad_lines, delim_whitespace, low_memory, memory_map, float_precision, storage_options)\u001b[0m\n\u001b[0;32m    584\u001b[0m     \u001b[0mkwds\u001b[0m\u001b[1;33m.\u001b[0m\u001b[0mupdate\u001b[0m\u001b[1;33m(\u001b[0m\u001b[0mkwds_defaults\u001b[0m\u001b[1;33m)\u001b[0m\u001b[1;33m\u001b[0m\u001b[1;33m\u001b[0m\u001b[0m\n\u001b[0;32m    585\u001b[0m \u001b[1;33m\u001b[0m\u001b[0m\n\u001b[1;32m--> 586\u001b[1;33m     \u001b[1;32mreturn\u001b[0m \u001b[0m_read\u001b[0m\u001b[1;33m(\u001b[0m\u001b[0mfilepath_or_buffer\u001b[0m\u001b[1;33m,\u001b[0m \u001b[0mkwds\u001b[0m\u001b[1;33m)\u001b[0m\u001b[1;33m\u001b[0m\u001b[1;33m\u001b[0m\u001b[0m\n\u001b[0m\u001b[0;32m    587\u001b[0m \u001b[1;33m\u001b[0m\u001b[0m\n\u001b[0;32m    588\u001b[0m \u001b[1;33m\u001b[0m\u001b[0m\n",
      "\u001b[1;32mG:\\PROGRAMI\\Anaconda3\\lib\\site-packages\\pandas\\io\\parsers\\readers.py\u001b[0m in \u001b[0;36m_read\u001b[1;34m(filepath_or_buffer, kwds)\u001b[0m\n\u001b[0;32m    480\u001b[0m \u001b[1;33m\u001b[0m\u001b[0m\n\u001b[0;32m    481\u001b[0m     \u001b[1;31m# Create the parser.\u001b[0m\u001b[1;33m\u001b[0m\u001b[1;33m\u001b[0m\u001b[0m\n\u001b[1;32m--> 482\u001b[1;33m     \u001b[0mparser\u001b[0m \u001b[1;33m=\u001b[0m \u001b[0mTextFileReader\u001b[0m\u001b[1;33m(\u001b[0m\u001b[0mfilepath_or_buffer\u001b[0m\u001b[1;33m,\u001b[0m \u001b[1;33m**\u001b[0m\u001b[0mkwds\u001b[0m\u001b[1;33m)\u001b[0m\u001b[1;33m\u001b[0m\u001b[1;33m\u001b[0m\u001b[0m\n\u001b[0m\u001b[0;32m    483\u001b[0m \u001b[1;33m\u001b[0m\u001b[0m\n\u001b[0;32m    484\u001b[0m     \u001b[1;32mif\u001b[0m \u001b[0mchunksize\u001b[0m \u001b[1;32mor\u001b[0m \u001b[0miterator\u001b[0m\u001b[1;33m:\u001b[0m\u001b[1;33m\u001b[0m\u001b[1;33m\u001b[0m\u001b[0m\n",
      "\u001b[1;32mG:\\PROGRAMI\\Anaconda3\\lib\\site-packages\\pandas\\io\\parsers\\readers.py\u001b[0m in \u001b[0;36m__init__\u001b[1;34m(self, f, engine, **kwds)\u001b[0m\n\u001b[0;32m    809\u001b[0m             \u001b[0mself\u001b[0m\u001b[1;33m.\u001b[0m\u001b[0moptions\u001b[0m\u001b[1;33m[\u001b[0m\u001b[1;34m\"has_index_names\"\u001b[0m\u001b[1;33m]\u001b[0m \u001b[1;33m=\u001b[0m \u001b[0mkwds\u001b[0m\u001b[1;33m[\u001b[0m\u001b[1;34m\"has_index_names\"\u001b[0m\u001b[1;33m]\u001b[0m\u001b[1;33m\u001b[0m\u001b[1;33m\u001b[0m\u001b[0m\n\u001b[0;32m    810\u001b[0m \u001b[1;33m\u001b[0m\u001b[0m\n\u001b[1;32m--> 811\u001b[1;33m         \u001b[0mself\u001b[0m\u001b[1;33m.\u001b[0m\u001b[0m_engine\u001b[0m \u001b[1;33m=\u001b[0m \u001b[0mself\u001b[0m\u001b[1;33m.\u001b[0m\u001b[0m_make_engine\u001b[0m\u001b[1;33m(\u001b[0m\u001b[0mself\u001b[0m\u001b[1;33m.\u001b[0m\u001b[0mengine\u001b[0m\u001b[1;33m)\u001b[0m\u001b[1;33m\u001b[0m\u001b[1;33m\u001b[0m\u001b[0m\n\u001b[0m\u001b[0;32m    812\u001b[0m \u001b[1;33m\u001b[0m\u001b[0m\n\u001b[0;32m    813\u001b[0m     \u001b[1;32mdef\u001b[0m \u001b[0mclose\u001b[0m\u001b[1;33m(\u001b[0m\u001b[0mself\u001b[0m\u001b[1;33m)\u001b[0m\u001b[1;33m:\u001b[0m\u001b[1;33m\u001b[0m\u001b[1;33m\u001b[0m\u001b[0m\n",
      "\u001b[1;32mG:\\PROGRAMI\\Anaconda3\\lib\\site-packages\\pandas\\io\\parsers\\readers.py\u001b[0m in \u001b[0;36m_make_engine\u001b[1;34m(self, engine)\u001b[0m\n\u001b[0;32m   1038\u001b[0m             )\n\u001b[0;32m   1039\u001b[0m         \u001b[1;31m# error: Too many arguments for \"ParserBase\"\u001b[0m\u001b[1;33m\u001b[0m\u001b[1;33m\u001b[0m\u001b[0m\n\u001b[1;32m-> 1040\u001b[1;33m         \u001b[1;32mreturn\u001b[0m \u001b[0mmapping\u001b[0m\u001b[1;33m[\u001b[0m\u001b[0mengine\u001b[0m\u001b[1;33m]\u001b[0m\u001b[1;33m(\u001b[0m\u001b[0mself\u001b[0m\u001b[1;33m.\u001b[0m\u001b[0mf\u001b[0m\u001b[1;33m,\u001b[0m \u001b[1;33m**\u001b[0m\u001b[0mself\u001b[0m\u001b[1;33m.\u001b[0m\u001b[0moptions\u001b[0m\u001b[1;33m)\u001b[0m  \u001b[1;31m# type: ignore[call-arg]\u001b[0m\u001b[1;33m\u001b[0m\u001b[1;33m\u001b[0m\u001b[0m\n\u001b[0m\u001b[0;32m   1041\u001b[0m \u001b[1;33m\u001b[0m\u001b[0m\n\u001b[0;32m   1042\u001b[0m     \u001b[1;32mdef\u001b[0m \u001b[0m_failover_to_python\u001b[0m\u001b[1;33m(\u001b[0m\u001b[0mself\u001b[0m\u001b[1;33m)\u001b[0m\u001b[1;33m:\u001b[0m\u001b[1;33m\u001b[0m\u001b[1;33m\u001b[0m\u001b[0m\n",
      "\u001b[1;32mG:\\PROGRAMI\\Anaconda3\\lib\\site-packages\\pandas\\io\\parsers\\c_parser_wrapper.py\u001b[0m in \u001b[0;36m__init__\u001b[1;34m(self, src, **kwds)\u001b[0m\n\u001b[0;32m     49\u001b[0m \u001b[1;33m\u001b[0m\u001b[0m\n\u001b[0;32m     50\u001b[0m         \u001b[1;31m# open handles\u001b[0m\u001b[1;33m\u001b[0m\u001b[1;33m\u001b[0m\u001b[0m\n\u001b[1;32m---> 51\u001b[1;33m         \u001b[0mself\u001b[0m\u001b[1;33m.\u001b[0m\u001b[0m_open_handles\u001b[0m\u001b[1;33m(\u001b[0m\u001b[0msrc\u001b[0m\u001b[1;33m,\u001b[0m \u001b[0mkwds\u001b[0m\u001b[1;33m)\u001b[0m\u001b[1;33m\u001b[0m\u001b[1;33m\u001b[0m\u001b[0m\n\u001b[0m\u001b[0;32m     52\u001b[0m         \u001b[1;32massert\u001b[0m \u001b[0mself\u001b[0m\u001b[1;33m.\u001b[0m\u001b[0mhandles\u001b[0m \u001b[1;32mis\u001b[0m \u001b[1;32mnot\u001b[0m \u001b[1;32mNone\u001b[0m\u001b[1;33m\u001b[0m\u001b[1;33m\u001b[0m\u001b[0m\n\u001b[0;32m     53\u001b[0m \u001b[1;33m\u001b[0m\u001b[0m\n",
      "\u001b[1;32mG:\\PROGRAMI\\Anaconda3\\lib\\site-packages\\pandas\\io\\parsers\\base_parser.py\u001b[0m in \u001b[0;36m_open_handles\u001b[1;34m(self, src, kwds)\u001b[0m\n\u001b[0;32m    220\u001b[0m         \u001b[0mLet\u001b[0m \u001b[0mthe\u001b[0m \u001b[0mreaders\u001b[0m \u001b[0mopen\u001b[0m \u001b[0mIOHandles\u001b[0m \u001b[0mafter\u001b[0m \u001b[0mthey\u001b[0m \u001b[0mare\u001b[0m \u001b[0mdone\u001b[0m \u001b[1;32mwith\u001b[0m \u001b[0mtheir\u001b[0m \u001b[0mpotential\u001b[0m \u001b[0mraises\u001b[0m\u001b[1;33m.\u001b[0m\u001b[1;33m\u001b[0m\u001b[1;33m\u001b[0m\u001b[0m\n\u001b[0;32m    221\u001b[0m         \"\"\"\n\u001b[1;32m--> 222\u001b[1;33m         self.handles = get_handle(\n\u001b[0m\u001b[0;32m    223\u001b[0m             \u001b[0msrc\u001b[0m\u001b[1;33m,\u001b[0m\u001b[1;33m\u001b[0m\u001b[1;33m\u001b[0m\u001b[0m\n\u001b[0;32m    224\u001b[0m             \u001b[1;34m\"r\"\u001b[0m\u001b[1;33m,\u001b[0m\u001b[1;33m\u001b[0m\u001b[1;33m\u001b[0m\u001b[0m\n",
      "\u001b[1;32mG:\\PROGRAMI\\Anaconda3\\lib\\site-packages\\pandas\\io\\common.py\u001b[0m in \u001b[0;36mget_handle\u001b[1;34m(path_or_buf, mode, encoding, compression, memory_map, is_text, errors, storage_options)\u001b[0m\n\u001b[0;32m    700\u001b[0m         \u001b[1;32mif\u001b[0m \u001b[0mioargs\u001b[0m\u001b[1;33m.\u001b[0m\u001b[0mencoding\u001b[0m \u001b[1;32mand\u001b[0m \u001b[1;34m\"b\"\u001b[0m \u001b[1;32mnot\u001b[0m \u001b[1;32min\u001b[0m \u001b[0mioargs\u001b[0m\u001b[1;33m.\u001b[0m\u001b[0mmode\u001b[0m\u001b[1;33m:\u001b[0m\u001b[1;33m\u001b[0m\u001b[1;33m\u001b[0m\u001b[0m\n\u001b[0;32m    701\u001b[0m             \u001b[1;31m# Encoding\u001b[0m\u001b[1;33m\u001b[0m\u001b[1;33m\u001b[0m\u001b[0m\n\u001b[1;32m--> 702\u001b[1;33m             handle = open(\n\u001b[0m\u001b[0;32m    703\u001b[0m                 \u001b[0mhandle\u001b[0m\u001b[1;33m,\u001b[0m\u001b[1;33m\u001b[0m\u001b[1;33m\u001b[0m\u001b[0m\n\u001b[0;32m    704\u001b[0m                 \u001b[0mioargs\u001b[0m\u001b[1;33m.\u001b[0m\u001b[0mmode\u001b[0m\u001b[1;33m,\u001b[0m\u001b[1;33m\u001b[0m\u001b[1;33m\u001b[0m\u001b[0m\n",
      "\u001b[1;31mFileNotFoundError\u001b[0m: [Errno 2] No such file or directory: 'C:\\\\Users\\\\GHB\\\\Desktop\\\\SCREW PROJECT\\\\Machine Learning\\\\Features\\\\tsfresh_efficient_features.csv'"
     ]
    }
   ],
   "source": [
    "feature_df = pd.read_csv(r\"C:\\Users\\GHB\\Desktop\\SCREW PROJECT\\Machine Learning\\Features\\tsfresh_efficient_features.csv\")\n",
    "print(feature_df)"
   ]
  },
  {
   "cell_type": "code",
   "execution_count": 18,
   "id": "71569f45",
   "metadata": {},
   "outputs": [
    {
     "name": "stdout",
     "output_type": "stream",
     "text": [
      "Original: N, Encoded: 0\n",
      "Original: NS, Encoded: 1\n",
      "Original: OT, Encoded: 2\n",
      "Original: P, Encoded: 3\n",
      "Original: UT, Encoded: 4\n",
      "                  id  Angle (deg)__variance_larger_than_standard_deviation  \\\n",
      "0     id030520234000                                                1.0      \n",
      "1     id030520234001                                                1.0      \n",
      "2     id030520234002                                                1.0      \n",
      "3     id030520234003                                                1.0      \n",
      "4     id030520234004                                                1.0      \n",
      "...              ...                                                ...      \n",
      "1336  id280420233082                                                1.0      \n",
      "1337  id280420233083                                                1.0      \n",
      "1338  id280420233084                                                1.0      \n",
      "1339  id280420233085                                                1.0      \n",
      "1340  id280420233086                                                1.0      \n",
      "\n",
      "      Angle (deg)__has_duplicate_max  Angle (deg)__has_duplicate_min  \\\n",
      "0                                0.0                             1.0   \n",
      "1                                0.0                             1.0   \n",
      "2                                0.0                             1.0   \n",
      "3                                0.0                             1.0   \n",
      "4                                0.0                             1.0   \n",
      "...                              ...                             ...   \n",
      "1336                             0.0                             1.0   \n",
      "1337                             0.0                             1.0   \n",
      "1338                             0.0                             1.0   \n",
      "1339                             0.0                             1.0   \n",
      "1340                             0.0                             1.0   \n",
      "\n",
      "      Angle (deg)__has_duplicate  Angle (deg)__sum_values  \\\n",
      "0                            1.0             2.495588e+06   \n",
      "1                            1.0             2.158879e+06   \n",
      "2                            1.0             2.345152e+06   \n",
      "3                            1.0             1.558602e+06   \n",
      "4                            1.0             1.867665e+06   \n",
      "...                          ...                      ...   \n",
      "1336                         1.0             3.037567e+06   \n",
      "1337                         1.0             3.314281e+06   \n",
      "1338                         1.0             3.263832e+06   \n",
      "1339                         1.0             3.064482e+06   \n",
      "1340                         1.0             3.140530e+06   \n",
      "\n",
      "      Angle (deg)__abs_energy  Angle (deg)__mean_abs_change  \\\n",
      "0                4.535497e+09                      2.904295   \n",
      "1                3.649226e+09                      2.898743   \n",
      "2                4.131616e+09                      2.901866   \n",
      "3                2.238406e+09                      2.884962   \n",
      "4                2.936232e+09                      2.892949   \n",
      "...                       ...                           ...   \n",
      "1336             6.090566e+09                      2.906474   \n",
      "1337             6.941544e+09                      2.909568   \n",
      "1338             6.783730e+09                      2.909017   \n",
      "1339             6.171634e+09                      2.906718   \n",
      "1340             6.402827e+09                      2.907731   \n",
      "\n",
      "      Angle (deg)__mean_change  Angle (deg)__mean_second_derivative_central  \\\n",
      "0                     0.000923                                          0.0   \n",
      "1                     0.000914                                          0.0   \n",
      "2                     0.000878                                          0.0   \n",
      "3                     0.001071                                          0.0   \n",
      "4                     0.000981                                          0.0   \n",
      "...                        ...                                          ...   \n",
      "1336                  0.000580                                          0.0   \n",
      "1337                  0.000556                                          0.0   \n",
      "1338                  0.000560                                          0.0   \n",
      "1339                  0.000577                                          0.0   \n",
      "1340                  0.000507                                          0.0   \n",
      "\n",
      "      ...  Torque (Nm)__fourier_entropy__bins_10  \\\n",
      "0     ...                               0.090729   \n",
      "1     ...                               0.090729   \n",
      "2     ...                               0.090729   \n",
      "3     ...                               0.090729   \n",
      "4     ...                               0.045395   \n",
      "...   ...                                    ...   \n",
      "1336  ...                               0.090729   \n",
      "1337  ...                               0.090729   \n",
      "1338  ...                               0.090729   \n",
      "1339  ...                               0.090729   \n",
      "1340  ...                               0.090729   \n",
      "\n",
      "      Torque (Nm)__fourier_entropy__bins_100  \\\n",
      "0                                   0.694592   \n",
      "1                                   0.655038   \n",
      "2                                   0.614553   \n",
      "3                                   0.539692   \n",
      "4                                   0.566851   \n",
      "...                                      ...   \n",
      "1336                                0.226363   \n",
      "1337                                0.335886   \n",
      "1338                                0.762403   \n",
      "1339                                0.181214   \n",
      "1340                                0.215617   \n",
      "\n",
      "      Torque (Nm)__permutation_entropy__dimension_3__tau_1  \\\n",
      "0                                              1.785406      \n",
      "1                                              1.780918      \n",
      "2                                              1.780365      \n",
      "3                                              1.777745      \n",
      "4                                              1.780528      \n",
      "...                                                 ...      \n",
      "1336                                           1.778769      \n",
      "1337                                           1.784767      \n",
      "1338                                           1.780365      \n",
      "1339                                           1.782505      \n",
      "1340                                           1.784190      \n",
      "\n",
      "      Torque (Nm)__permutation_entropy__dimension_4__tau_1  \\\n",
      "0                                              3.110922      \n",
      "1                                              3.103408      \n",
      "2                                              3.110583      \n",
      "3                                              3.087500      \n",
      "4                                              3.109827      \n",
      "...                                                 ...      \n",
      "1336                                           3.131429      \n",
      "1337                                           3.133578      \n",
      "1338                                           3.114812      \n",
      "1339                                           3.132747      \n",
      "1340                                           3.137260      \n",
      "\n",
      "      Torque (Nm)__permutation_entropy__dimension_5__tau_1  \\\n",
      "0                                              4.615724      \n",
      "1                                              4.600450      \n",
      "2                                              4.631573      \n",
      "3                                              4.575278      \n",
      "4                                              4.619528      \n",
      "...                                                 ...      \n",
      "1336                                           4.690868      \n",
      "1337                                           4.684342      \n",
      "1338                                           4.663358      \n",
      "1339                                           4.693579      \n",
      "1340                                           4.697670      \n",
      "\n",
      "      Torque (Nm)__permutation_entropy__dimension_6__tau_1  \\\n",
      "0                                              6.111534      \n",
      "1                                              6.068439      \n",
      "2                                              6.121774      \n",
      "3                                              5.973556      \n",
      "4                                              6.045241      \n",
      "...                                                 ...      \n",
      "1336                                           6.262187      \n",
      "1337                                           6.259316      \n",
      "1338                                           6.239497      \n",
      "1339                                           6.268620      \n",
      "1340                                           6.257552      \n",
      "\n",
      "      Torque (Nm)__permutation_entropy__dimension_7__tau_1  \\\n",
      "0                                              7.063950      \n",
      "1                                              6.996258      \n",
      "2                                              7.094598      \n",
      "3                                              6.883979      \n",
      "4                                              6.954183      \n",
      "...                                                 ...      \n",
      "1336                                           7.295241      \n",
      "1337                                           7.303920      \n",
      "1338                                           7.277572      \n",
      "1339                                           7.286342      \n",
      "1340                                           7.275042      \n",
      "\n",
      "      Torque (Nm)__query_similarity_count__query_None__threshold_0.0  \\\n",
      "0                                                   NaN                \n",
      "1                                                   NaN                \n",
      "2                                                   NaN                \n",
      "3                                                   NaN                \n",
      "4                                                   NaN                \n",
      "...                                                 ...                \n",
      "1336                                                NaN                \n",
      "1337                                                NaN                \n",
      "1338                                                NaN                \n",
      "1339                                                NaN                \n",
      "1340                                                NaN                \n",
      "\n",
      "      Torque (Nm)__mean_n_absolute_max__number_of_maxima_7  Label  \n",
      "0                                              0.507767         4  \n",
      "1                                              0.502938         4  \n",
      "2                                              0.505856         4  \n",
      "3                                              0.511993         4  \n",
      "4                                              0.508069         4  \n",
      "...                                                 ...       ...  \n",
      "1336                                           1.090387         0  \n",
      "1337                                           1.089884         0  \n",
      "1338                                           1.089280         0  \n",
      "1339                                           1.088777         0  \n",
      "1340                                           1.099139         0  \n",
      "\n",
      "[1341 rows x 9326 columns]\n"
     ]
    }
   ],
   "source": [
    "# Assume that labels are in a separate dataframe\n",
    "feature_df = feature_df.rename(columns={'Unnamed: 0': 'id'})\n",
    "labels = pd.read_csv(r\"C:\\Users\\GHB\\Desktop\\SCREW PROJECT\\Machine Learning\\Data\\Labels_names.csv\")\n",
    "labels = labels.rename(columns={'File Name': 'id'})\n",
    "\n",
    "# Create a LabelEncoder instance\n",
    "encoder = LabelEncoder()\n",
    "\n",
    "# Fit the encoder and transform the labels\n",
    "labels['Label'] = encoder.fit_transform(labels['Label'])\n",
    "\n",
    "# Print original labels and their encoded values\n",
    "for original, encoded in zip(encoder.classes_, range(len(encoder.classes_))):\n",
    "    print(f'Original: {original}, Encoded: {encoded}')\n",
    "\n",
    "# Merge features and labels\n",
    "data = pd.merge(feature_df, labels, on='id')\n",
    "\n",
    "print(data)"
   ]
  },
  {
   "cell_type": "code",
   "execution_count": 4,
   "id": "a3cb448b",
   "metadata": {},
   "outputs": [
    {
     "name": "stdout",
     "output_type": "stream",
     "text": [
      "id                                                                False\n",
      "Angle (deg)__variance_larger_than_standard_deviation              False\n",
      "Angle (deg)__has_duplicate_max                                    False\n",
      "Angle (deg)__has_duplicate_min                                    False\n",
      "Angle (deg)__has_duplicate                                        False\n",
      "                                                                  ...  \n",
      "Torque (Nm)__permutation_entropy__dimension_6__tau_1              False\n",
      "Torque (Nm)__permutation_entropy__dimension_7__tau_1              False\n",
      "Torque (Nm)__query_similarity_count__query_None__threshold_0.0     True\n",
      "Torque (Nm)__mean_n_absolute_max__number_of_maxima_7              False\n",
      "Label                                                             False\n",
      "Length: 9326, dtype: bool\n",
      "['Angle (deg)__query_similarity_count__query_None__threshold_0.0', 'Current (V)__friedrich_coefficients__coeff_0__m_3__r_30', 'Current (V)__friedrich_coefficients__coeff_1__m_3__r_30', 'Current (V)__friedrich_coefficients__coeff_2__m_3__r_30', 'Current (V)__friedrich_coefficients__coeff_3__m_3__r_30', 'Current (V)__max_langevin_fixed_point__m_3__r_30', 'Current (V)__query_similarity_count__query_None__threshold_0.0', 'Depth (mm)__friedrich_coefficients__coeff_0__m_3__r_30', 'Depth (mm)__friedrich_coefficients__coeff_1__m_3__r_30', 'Depth (mm)__friedrich_coefficients__coeff_2__m_3__r_30', 'Depth (mm)__friedrich_coefficients__coeff_3__m_3__r_30', 'Depth (mm)__max_langevin_fixed_point__m_3__r_30', 'Depth (mm)__query_similarity_count__query_None__threshold_0.0', 'Nset (1/min)__friedrich_coefficients__coeff_0__m_3__r_30', 'Nset (1/min)__friedrich_coefficients__coeff_1__m_3__r_30', 'Nset (1/min)__friedrich_coefficients__coeff_2__m_3__r_30', 'Nset (1/min)__friedrich_coefficients__coeff_3__m_3__r_30', 'Nset (1/min)__max_langevin_fixed_point__m_3__r_30', 'Nset (1/min)__query_similarity_count__query_None__threshold_0.0', 'Robot_I (A)__friedrich_coefficients__coeff_0__m_3__r_30', 'Robot_I (A)__friedrich_coefficients__coeff_1__m_3__r_30', 'Robot_I (A)__friedrich_coefficients__coeff_2__m_3__r_30', 'Robot_I (A)__friedrich_coefficients__coeff_3__m_3__r_30', 'Robot_I (A)__max_langevin_fixed_point__m_3__r_30', 'Robot_I (A)__query_similarity_count__query_None__threshold_0.0', 'TCP_rx (rad)__friedrich_coefficients__coeff_0__m_3__r_30', 'TCP_rx (rad)__friedrich_coefficients__coeff_1__m_3__r_30', 'TCP_rx (rad)__friedrich_coefficients__coeff_2__m_3__r_30', 'TCP_rx (rad)__friedrich_coefficients__coeff_3__m_3__r_30', 'TCP_rx (rad)__max_langevin_fixed_point__m_3__r_30', 'TCP_rx (rad)__query_similarity_count__query_None__threshold_0.0', 'TCP_ry (rad)__friedrich_coefficients__coeff_0__m_3__r_30', 'TCP_ry (rad)__friedrich_coefficients__coeff_1__m_3__r_30', 'TCP_ry (rad)__friedrich_coefficients__coeff_2__m_3__r_30', 'TCP_ry (rad)__friedrich_coefficients__coeff_3__m_3__r_30', 'TCP_ry (rad)__max_langevin_fixed_point__m_3__r_30', 'TCP_ry (rad)__query_similarity_count__query_None__threshold_0.0', 'TCP_rz (rad)__autocorrelation__lag_0', 'TCP_rz (rad)__autocorrelation__lag_1', 'TCP_rz (rad)__autocorrelation__lag_2', 'TCP_rz (rad)__autocorrelation__lag_3', 'TCP_rz (rad)__autocorrelation__lag_4', 'TCP_rz (rad)__autocorrelation__lag_5', 'TCP_rz (rad)__autocorrelation__lag_6', 'TCP_rz (rad)__autocorrelation__lag_7', 'TCP_rz (rad)__autocorrelation__lag_8', 'TCP_rz (rad)__autocorrelation__lag_9', 'TCP_rz (rad)__partial_autocorrelation__lag_1', 'TCP_rz (rad)__partial_autocorrelation__lag_2', 'TCP_rz (rad)__partial_autocorrelation__lag_3', 'TCP_rz (rad)__partial_autocorrelation__lag_4', 'TCP_rz (rad)__partial_autocorrelation__lag_5', 'TCP_rz (rad)__partial_autocorrelation__lag_6', 'TCP_rz (rad)__partial_autocorrelation__lag_7', 'TCP_rz (rad)__partial_autocorrelation__lag_8', 'TCP_rz (rad)__partial_autocorrelation__lag_9', 'TCP_rz (rad)__fft_aggregated__aggtype_\"skew\"', 'TCP_rz (rad)__fft_aggregated__aggtype_\"kurtosis\"', 'TCP_rz (rad)__friedrich_coefficients__coeff_0__m_3__r_30', 'TCP_rz (rad)__friedrich_coefficients__coeff_1__m_3__r_30', 'TCP_rz (rad)__friedrich_coefficients__coeff_2__m_3__r_30', 'TCP_rz (rad)__friedrich_coefficients__coeff_3__m_3__r_30', 'TCP_rz (rad)__max_langevin_fixed_point__m_3__r_30', 'TCP_rz (rad)__augmented_dickey_fuller__attr_\"teststat\"__autolag_\"AIC\"', 'TCP_rz (rad)__augmented_dickey_fuller__attr_\"pvalue\"__autolag_\"AIC\"', 'TCP_rz (rad)__query_similarity_count__query_None__threshold_0.0', 'TCP_x (mm)__friedrich_coefficients__coeff_0__m_3__r_30', 'TCP_x (mm)__friedrich_coefficients__coeff_1__m_3__r_30', 'TCP_x (mm)__friedrich_coefficients__coeff_2__m_3__r_30', 'TCP_x (mm)__friedrich_coefficients__coeff_3__m_3__r_30', 'TCP_x (mm)__max_langevin_fixed_point__m_3__r_30', 'TCP_x (mm)__query_similarity_count__query_None__threshold_0.0', 'TCP_y (mm)__friedrich_coefficients__coeff_0__m_3__r_30', 'TCP_y (mm)__friedrich_coefficients__coeff_1__m_3__r_30', 'TCP_y (mm)__friedrich_coefficients__coeff_2__m_3__r_30', 'TCP_y (mm)__friedrich_coefficients__coeff_3__m_3__r_30', 'TCP_y (mm)__max_langevin_fixed_point__m_3__r_30', 'TCP_y (mm)__query_similarity_count__query_None__threshold_0.0', 'TCP_z (mm)__friedrich_coefficients__coeff_0__m_3__r_30', 'TCP_z (mm)__friedrich_coefficients__coeff_1__m_3__r_30', 'TCP_z (mm)__friedrich_coefficients__coeff_2__m_3__r_30', 'TCP_z (mm)__friedrich_coefficients__coeff_3__m_3__r_30', 'TCP_z (mm)__max_langevin_fixed_point__m_3__r_30', 'TCP_z (mm)__query_similarity_count__query_None__threshold_0.0', 'Torque (Nm)__friedrich_coefficients__coeff_0__m_3__r_30', 'Torque (Nm)__friedrich_coefficients__coeff_1__m_3__r_30', 'Torque (Nm)__friedrich_coefficients__coeff_2__m_3__r_30', 'Torque (Nm)__friedrich_coefficients__coeff_3__m_3__r_30', 'Torque (Nm)__max_langevin_fixed_point__m_3__r_30', 'Torque (Nm)__query_similarity_count__query_None__threshold_0.0']\n"
     ]
    }
   ],
   "source": [
    "nan_columns = data.isna().any()\n",
    "nan_cols_list = data.columns[data.isna().any()].tolist()\n",
    "\n",
    "print(nan_columns)\n",
    "print(nan_cols_list)"
   ]
  },
  {
   "cell_type": "code",
   "execution_count": 47,
   "id": "fec59d37",
   "metadata": {},
   "outputs": [
    {
     "name": "stdout",
     "output_type": "stream",
     "text": [
      "0      -1.219270\n",
      "1            NaN\n",
      "2            NaN\n",
      "3            NaN\n",
      "4            NaN\n",
      "          ...   \n",
      "1336   -0.226149\n",
      "1337   -0.319877\n",
      "1338   -0.798902\n",
      "1339   -0.381024\n",
      "1340   -0.339891\n",
      "Name: Current (V)__friedrich_coefficients__coeff_0__m_3__r_30, Length: 1341, dtype: float64\n"
     ]
    }
   ],
   "source": [
    "print(feature_df['Current (V)__friedrich_coefficients__coeff_0__m_3__r_30'])"
   ]
  },
  {
   "cell_type": "code",
   "execution_count": 19,
   "id": "adfa5e33",
   "metadata": {},
   "outputs": [],
   "source": [
    "# Droping the NaN Columns\n",
    "data = data.dropna(axis=1)"
   ]
  },
  {
   "cell_type": "code",
   "execution_count": 20,
   "id": "ce7a135e",
   "metadata": {},
   "outputs": [],
   "source": [
    "# Drop filename column (we don't need it for the model)\n",
    "data = data.drop(columns='id')\n",
    "\n",
    "# Separate features and labels\n",
    "X = data.drop(columns='Label')\n",
    "y = data['Label']"
   ]
  },
  {
   "cell_type": "code",
   "execution_count": 21,
   "id": "8d67ef96",
   "metadata": {},
   "outputs": [],
   "source": [
    "# Split data into training and test sets\n",
    "X_train, X_test, y_train, y_test = train_test_split(X, y, test_size=0.3)"
   ]
  },
  {
   "cell_type": "code",
   "execution_count": 8,
   "id": "5575e9fe",
   "metadata": {},
   "outputs": [
    {
     "name": "stdout",
     "output_type": "stream",
     "text": [
      "              precision    recall  f1-score   support\n",
      "\n",
      "           0       0.59      0.91      0.72       129\n",
      "           1       0.00      0.00      0.00        45\n",
      "           2       0.43      1.00      0.60        87\n",
      "           3       0.00      0.00      0.00        45\n",
      "           4       0.00      0.00      0.00        97\n",
      "\n",
      "    accuracy                           0.51       403\n",
      "   macro avg       0.20      0.38      0.26       403\n",
      "weighted avg       0.28      0.51      0.36       403\n",
      "\n"
     ]
    },
    {
     "name": "stderr",
     "output_type": "stream",
     "text": [
      "G:\\PROGRAMI\\Anaconda3\\lib\\site-packages\\sklearn\\metrics\\_classification.py:1248: UndefinedMetricWarning: Precision and F-score are ill-defined and being set to 0.0 in labels with no predicted samples. Use `zero_division` parameter to control this behavior.\n",
      "  _warn_prf(average, modifier, msg_start, len(result))\n",
      "G:\\PROGRAMI\\Anaconda3\\lib\\site-packages\\sklearn\\metrics\\_classification.py:1248: UndefinedMetricWarning: Precision and F-score are ill-defined and being set to 0.0 in labels with no predicted samples. Use `zero_division` parameter to control this behavior.\n",
      "  _warn_prf(average, modifier, msg_start, len(result))\n",
      "G:\\PROGRAMI\\Anaconda3\\lib\\site-packages\\sklearn\\metrics\\_classification.py:1248: UndefinedMetricWarning: Precision and F-score are ill-defined and being set to 0.0 in labels with no predicted samples. Use `zero_division` parameter to control this behavior.\n",
      "  _warn_prf(average, modifier, msg_start, len(result))\n"
     ]
    }
   ],
   "source": [
    "# Create a SVM model with a radial basis function (RBF) kernel\n",
    "svm_model = SVC(kernel='rbf')\n",
    "\n",
    "# Fit the model on the training data\n",
    "svm_model.fit(X_train, y_train)\n",
    "\n",
    "# Make predictions on the test data\n",
    "y_pred = svm_model.predict(X_test)\n",
    "\n",
    "# Evaluate the model's performance\n",
    "print(classification_report(y_test, y_pred))"
   ]
  },
  {
   "cell_type": "markdown",
   "id": "c19d96db",
   "metadata": {},
   "source": [
    "KNN algorithm"
   ]
  },
  {
   "cell_type": "code",
   "execution_count": 9,
   "id": "1f5735b6",
   "metadata": {},
   "outputs": [],
   "source": [
    "from sklearn.neighbors import KNeighborsClassifier\n",
    "from sklearn.model_selection import train_test_split\n",
    "from sklearn.metrics import classification_report"
   ]
  },
  {
   "cell_type": "code",
   "execution_count": 12,
   "id": "ed2f2176",
   "metadata": {},
   "outputs": [
    {
     "name": "stdout",
     "output_type": "stream",
     "text": [
      "              precision    recall  f1-score   support\n",
      "\n",
      "           0       0.91      0.91      0.91       129\n",
      "           1       0.51      0.67      0.58        45\n",
      "           2       0.85      0.87      0.86        87\n",
      "           3       0.55      0.49      0.52        45\n",
      "           4       0.94      0.84      0.89        97\n",
      "\n",
      "    accuracy                           0.81       403\n",
      "   macro avg       0.75      0.76      0.75       403\n",
      "weighted avg       0.82      0.81      0.81       403\n",
      "\n"
     ]
    },
    {
     "name": "stderr",
     "output_type": "stream",
     "text": [
      "G:\\PROGRAMI\\Anaconda3\\lib\\site-packages\\sklearn\\neighbors\\_classification.py:211: FutureWarning: Unlike other reduction functions (e.g. `skew`, `kurtosis`), the default behavior of `mode` typically preserves the axis it acts along. In SciPy 1.11.0, this behavior will change: the default value of `keepdims` will become False, the `axis` over which the statistic is taken will be eliminated, and the value None will no longer be accepted. Set `keepdims` to True or False to avoid this warning.\n",
      "  mode, _ = stats.mode(_y[neigh_ind, k], axis=1)\n"
     ]
    }
   ],
   "source": [
    "# Creating the KNN classifier with k=3\n",
    "knn = KNeighborsClassifier(n_neighbors=5)\n",
    "\n",
    "# Training the KNN classifier on the training data\n",
    "knn.fit(X_train, y_train)\n",
    "\n",
    "# Making predictions on the testing data\n",
    "y_pred = knn.predict(X_test)\n",
    "\n",
    "# Evaluating the KNN classifier's performance\n",
    "print(classification_report(y_test, y_pred))"
   ]
  },
  {
   "cell_type": "code",
   "execution_count": 14,
   "id": "3bbf85a9",
   "metadata": {},
   "outputs": [
    {
     "name": "stderr",
     "output_type": "stream",
     "text": [
      "G:\\PROGRAMI\\Anaconda3\\lib\\site-packages\\sklearn\\neighbors\\_classification.py:211: FutureWarning: Unlike other reduction functions (e.g. `skew`, `kurtosis`), the default behavior of `mode` typically preserves the axis it acts along. In SciPy 1.11.0, this behavior will change: the default value of `keepdims` will become False, the `axis` over which the statistic is taken will be eliminated, and the value None will no longer be accepted. Set `keepdims` to True or False to avoid this warning.\n",
      "  mode, _ = stats.mode(_y[neigh_ind, k], axis=1)\n",
      "G:\\PROGRAMI\\Anaconda3\\lib\\site-packages\\sklearn\\neighbors\\_classification.py:211: FutureWarning: Unlike other reduction functions (e.g. `skew`, `kurtosis`), the default behavior of `mode` typically preserves the axis it acts along. In SciPy 1.11.0, this behavior will change: the default value of `keepdims` will become False, the `axis` over which the statistic is taken will be eliminated, and the value None will no longer be accepted. Set `keepdims` to True or False to avoid this warning.\n",
      "  mode, _ = stats.mode(_y[neigh_ind, k], axis=1)\n"
     ]
    },
    {
     "name": "stdout",
     "output_type": "stream",
     "text": [
      "k=1, accuracy=83.13%\n",
      "k=2, accuracy=81.64%\n"
     ]
    },
    {
     "name": "stderr",
     "output_type": "stream",
     "text": [
      "G:\\PROGRAMI\\Anaconda3\\lib\\site-packages\\sklearn\\neighbors\\_classification.py:211: FutureWarning: Unlike other reduction functions (e.g. `skew`, `kurtosis`), the default behavior of `mode` typically preserves the axis it acts along. In SciPy 1.11.0, this behavior will change: the default value of `keepdims` will become False, the `axis` over which the statistic is taken will be eliminated, and the value None will no longer be accepted. Set `keepdims` to True or False to avoid this warning.\n",
      "  mode, _ = stats.mode(_y[neigh_ind, k], axis=1)\n",
      "G:\\PROGRAMI\\Anaconda3\\lib\\site-packages\\sklearn\\neighbors\\_classification.py:211: FutureWarning: Unlike other reduction functions (e.g. `skew`, `kurtosis`), the default behavior of `mode` typically preserves the axis it acts along. In SciPy 1.11.0, this behavior will change: the default value of `keepdims` will become False, the `axis` over which the statistic is taken will be eliminated, and the value None will no longer be accepted. Set `keepdims` to True or False to avoid this warning.\n",
      "  mode, _ = stats.mode(_y[neigh_ind, k], axis=1)\n"
     ]
    },
    {
     "name": "stdout",
     "output_type": "stream",
     "text": [
      "k=3, accuracy=81.89%\n",
      "k=4, accuracy=81.89%\n"
     ]
    },
    {
     "name": "stderr",
     "output_type": "stream",
     "text": [
      "G:\\PROGRAMI\\Anaconda3\\lib\\site-packages\\sklearn\\neighbors\\_classification.py:211: FutureWarning: Unlike other reduction functions (e.g. `skew`, `kurtosis`), the default behavior of `mode` typically preserves the axis it acts along. In SciPy 1.11.0, this behavior will change: the default value of `keepdims` will become False, the `axis` over which the statistic is taken will be eliminated, and the value None will no longer be accepted. Set `keepdims` to True or False to avoid this warning.\n",
      "  mode, _ = stats.mode(_y[neigh_ind, k], axis=1)\n"
     ]
    },
    {
     "name": "stdout",
     "output_type": "stream",
     "text": [
      "k=5, accuracy=81.14%\n"
     ]
    },
    {
     "name": "stderr",
     "output_type": "stream",
     "text": [
      "G:\\PROGRAMI\\Anaconda3\\lib\\site-packages\\sklearn\\neighbors\\_classification.py:211: FutureWarning: Unlike other reduction functions (e.g. `skew`, `kurtosis`), the default behavior of `mode` typically preserves the axis it acts along. In SciPy 1.11.0, this behavior will change: the default value of `keepdims` will become False, the `axis` over which the statistic is taken will be eliminated, and the value None will no longer be accepted. Set `keepdims` to True or False to avoid this warning.\n",
      "  mode, _ = stats.mode(_y[neigh_ind, k], axis=1)\n",
      "G:\\PROGRAMI\\Anaconda3\\lib\\site-packages\\sklearn\\neighbors\\_classification.py:211: FutureWarning: Unlike other reduction functions (e.g. `skew`, `kurtosis`), the default behavior of `mode` typically preserves the axis it acts along. In SciPy 1.11.0, this behavior will change: the default value of `keepdims` will become False, the `axis` over which the statistic is taken will be eliminated, and the value None will no longer be accepted. Set `keepdims` to True or False to avoid this warning.\n",
      "  mode, _ = stats.mode(_y[neigh_ind, k], axis=1)\n"
     ]
    },
    {
     "name": "stdout",
     "output_type": "stream",
     "text": [
      "k=6, accuracy=82.63%\n",
      "k=7, accuracy=81.39%\n"
     ]
    },
    {
     "name": "stderr",
     "output_type": "stream",
     "text": [
      "G:\\PROGRAMI\\Anaconda3\\lib\\site-packages\\sklearn\\neighbors\\_classification.py:211: FutureWarning: Unlike other reduction functions (e.g. `skew`, `kurtosis`), the default behavior of `mode` typically preserves the axis it acts along. In SciPy 1.11.0, this behavior will change: the default value of `keepdims` will become False, the `axis` over which the statistic is taken will be eliminated, and the value None will no longer be accepted. Set `keepdims` to True or False to avoid this warning.\n",
      "  mode, _ = stats.mode(_y[neigh_ind, k], axis=1)\n",
      "G:\\PROGRAMI\\Anaconda3\\lib\\site-packages\\sklearn\\neighbors\\_classification.py:211: FutureWarning: Unlike other reduction functions (e.g. `skew`, `kurtosis`), the default behavior of `mode` typically preserves the axis it acts along. In SciPy 1.11.0, this behavior will change: the default value of `keepdims` will become False, the `axis` over which the statistic is taken will be eliminated, and the value None will no longer be accepted. Set `keepdims` to True or False to avoid this warning.\n",
      "  mode, _ = stats.mode(_y[neigh_ind, k], axis=1)\n"
     ]
    },
    {
     "name": "stdout",
     "output_type": "stream",
     "text": [
      "k=8, accuracy=81.64%\n",
      "k=9, accuracy=81.14%\n"
     ]
    },
    {
     "name": "stderr",
     "output_type": "stream",
     "text": [
      "G:\\PROGRAMI\\Anaconda3\\lib\\site-packages\\sklearn\\neighbors\\_classification.py:211: FutureWarning: Unlike other reduction functions (e.g. `skew`, `kurtosis`), the default behavior of `mode` typically preserves the axis it acts along. In SciPy 1.11.0, this behavior will change: the default value of `keepdims` will become False, the `axis` over which the statistic is taken will be eliminated, and the value None will no longer be accepted. Set `keepdims` to True or False to avoid this warning.\n",
      "  mode, _ = stats.mode(_y[neigh_ind, k], axis=1)\n",
      "G:\\PROGRAMI\\Anaconda3\\lib\\site-packages\\sklearn\\neighbors\\_classification.py:211: FutureWarning: Unlike other reduction functions (e.g. `skew`, `kurtosis`), the default behavior of `mode` typically preserves the axis it acts along. In SciPy 1.11.0, this behavior will change: the default value of `keepdims` will become False, the `axis` over which the statistic is taken will be eliminated, and the value None will no longer be accepted. Set `keepdims` to True or False to avoid this warning.\n",
      "  mode, _ = stats.mode(_y[neigh_ind, k], axis=1)\n"
     ]
    },
    {
     "name": "stdout",
     "output_type": "stream",
     "text": [
      "k=10, accuracy=80.65%\n",
      "k=11, accuracy=80.40%\n"
     ]
    },
    {
     "name": "stderr",
     "output_type": "stream",
     "text": [
      "G:\\PROGRAMI\\Anaconda3\\lib\\site-packages\\sklearn\\neighbors\\_classification.py:211: FutureWarning: Unlike other reduction functions (e.g. `skew`, `kurtosis`), the default behavior of `mode` typically preserves the axis it acts along. In SciPy 1.11.0, this behavior will change: the default value of `keepdims` will become False, the `axis` over which the statistic is taken will be eliminated, and the value None will no longer be accepted. Set `keepdims` to True or False to avoid this warning.\n",
      "  mode, _ = stats.mode(_y[neigh_ind, k], axis=1)\n",
      "G:\\PROGRAMI\\Anaconda3\\lib\\site-packages\\sklearn\\neighbors\\_classification.py:211: FutureWarning: Unlike other reduction functions (e.g. `skew`, `kurtosis`), the default behavior of `mode` typically preserves the axis it acts along. In SciPy 1.11.0, this behavior will change: the default value of `keepdims` will become False, the `axis` over which the statistic is taken will be eliminated, and the value None will no longer be accepted. Set `keepdims` to True or False to avoid this warning.\n",
      "  mode, _ = stats.mode(_y[neigh_ind, k], axis=1)\n"
     ]
    },
    {
     "name": "stdout",
     "output_type": "stream",
     "text": [
      "k=12, accuracy=81.64%\n",
      "k=13, accuracy=81.14%\n"
     ]
    },
    {
     "name": "stderr",
     "output_type": "stream",
     "text": [
      "G:\\PROGRAMI\\Anaconda3\\lib\\site-packages\\sklearn\\neighbors\\_classification.py:211: FutureWarning: Unlike other reduction functions (e.g. `skew`, `kurtosis`), the default behavior of `mode` typically preserves the axis it acts along. In SciPy 1.11.0, this behavior will change: the default value of `keepdims` will become False, the `axis` over which the statistic is taken will be eliminated, and the value None will no longer be accepted. Set `keepdims` to True or False to avoid this warning.\n",
      "  mode, _ = stats.mode(_y[neigh_ind, k], axis=1)\n"
     ]
    },
    {
     "name": "stdout",
     "output_type": "stream",
     "text": [
      "k=14, accuracy=81.89%\n",
      "k=1 achieved highest accuracy of 83.13% on test data\n"
     ]
    },
    {
     "data": {
      "image/png": "[encoded data removed]",
      "text/plain": [
       "<Figure size 720x432 with 1 Axes>"
      ]
     },
     "metadata": {
      "needs_background": "light"
     },
     "output_type": "display_data"
    }
   ],
   "source": [
    "# Initialize the values of k for our k-Nearest Neighbor classifier along with the\n",
    "\n",
    "import matplotlib.pyplot as plt\n",
    "# list of accuracies for each value of k\n",
    "neighbors = list(range(1, 15))\n",
    "accuracies = []\n",
    "\n",
    "# Loop over various values of `k` for the k-Nearest Neighbor classifier\n",
    "for k in neighbors:\n",
    "    # Train the k-Nearest Neighbor classifier with the current value of `k`\n",
    "    model = KNeighborsClassifier(n_neighbors=k)\n",
    "    model.fit(X_train, y_train)\n",
    "\n",
    "    # Evaluate the model and update the accuracies list\n",
    "    score = model.score(X_test, y_test)\n",
    "    print(\"k=%d, accuracy=%.2f%%\" % (k, score * 100))\n",
    "    accuracies.append(score)\n",
    "\n",
    "# Find the value of k that has the largest accuracy\n",
    "i_max = accuracies.index(max(accuracies))\n",
    "print(\"k=%d achieved highest accuracy of %.2f%% on test data\" % (neighbors[i_max],\n",
    "                                                                 accuracies[i_max] * 100))\n",
    "\n",
    "# Plot the relationship between the number of neighbors and the accuracy of the classifier\n",
    "plt.figure(figsize=(10, 6))\n",
    "plt.plot(neighbors, accuracies, marker='o')\n",
    "plt.title('K-Nearest Neighbors Classifier Accuracies')\n",
    "plt.xlabel('Number of Neighbors')\n",
    "plt.ylabel('Accuracy')\n",
    "plt.xticks(neighbors)\n",
    "plt.grid()\n",
    "plt.show()"
   ]
  },
  {
   "cell_type": "markdown",
   "id": "0888e041",
   "metadata": {},
   "source": [
    "Random forrest\n"
   ]
  },
  {
   "cell_type": "code",
   "execution_count": 22,
   "id": "55d5dae5",
   "metadata": {},
   "outputs": [
    {
     "name": "stdout",
     "output_type": "stream",
     "text": [
      "Accuracy: 0.9751861042183623\n",
      "              precision    recall  f1-score   support\n",
      "\n",
      "           0       0.98      0.98      0.98       119\n",
      "           1       0.98      0.98      0.98        43\n",
      "           2       0.98      0.96      0.97        96\n",
      "           3       0.98      0.98      0.98        52\n",
      "           4       0.96      0.98      0.97        93\n",
      "\n",
      "    accuracy                           0.98       403\n",
      "   macro avg       0.98      0.98      0.98       403\n",
      "weighted avg       0.98      0.98      0.98       403\n",
      "\n"
     ]
    }
   ],
   "source": [
    "# Define the model\n",
    "from sklearn.ensemble import RandomForestClassifier\n",
    "model = RandomForestClassifier(n_estimators=100, random_state=42)\n",
    "\n",
    "# Train the model\n",
    "model.fit(X_train, y_train)\n",
    "\n",
    "# Make predictions on the test set\n",
    "y_pred = model.predict(X_test)\n",
    "\n",
    "# Evaluate the model\n",
    "print('Accuracy:', accuracy_score(y_test, y_pred))\n",
    "\n",
    "\n",
    "# Evaluate the model's performance\n",
    "print(classification_report(y_test, y_pred))"
   ]
  },
  {
   "cell_type": "code",
   "execution_count": 26,
   "id": "8d731c7a",
   "metadata": {},
   "outputs": [
    {
     "name": "stdout",
     "output_type": "stream",
     "text": [
      "Cross-validation scores:  [0.95910781 0.94402985 0.92537313 0.98880597 0.89925373]\n",
      "Mean cross-validation score:  0.9433140986517229\n",
      "                                                Feature  Importance\n",
      "0     Angle (deg)__variance_larger_than_standard_dev...    0.000000\n",
      "1                        Angle (deg)__has_duplicate_max    0.000000\n",
      "2                        Angle (deg)__has_duplicate_min    0.000000\n",
      "3                            Angle (deg)__has_duplicate    0.000000\n",
      "4                               Angle (deg)__sum_values    0.000000\n",
      "...                                                 ...         ...\n",
      "9229  Torque (Nm)__permutation_entropy__dimension_4_...    0.000000\n",
      "9230  Torque (Nm)__permutation_entropy__dimension_5_...    0.000018\n",
      "9231  Torque (Nm)__permutation_entropy__dimension_6_...    0.000000\n",
      "9232  Torque (Nm)__permutation_entropy__dimension_7_...    0.000000\n",
      "9233  Torque (Nm)__mean_n_absolute_max__number_of_ma...    0.003087\n",
      "\n",
      "[9234 rows x 2 columns]\n"
     ]
    }
   ],
   "source": [
    "from sklearn.model_selection import cross_val_score\n",
    "import numpy as np\n",
    "# Perform cross-validation\n",
    "cross_val_scores = cross_val_score(model, X, y, cv=5)\n",
    "\n",
    "print(\"Cross-validation scores: \", cross_val_scores)\n",
    "print(\"Mean cross-validation score: \", np.mean(cross_val_scores))\n",
    "\n",
    "# Fit the model on the full data\n",
    "model.fit(X, y)\n",
    "\n",
    "# Get feature importances\n",
    "importances = model.feature_importances_\n",
    "feature_names = X.columns.tolist()\n",
    "features = feature_names\n",
    "\n",
    "# Create a DataFrame to view features and their importance\n",
    "importance_df = pd.DataFrame({'Feature': features, 'Importance': importances})\n",
    "\n",
    "print(importance_df)"
   ]
  },
  {
   "cell_type": "code",
   "execution_count": 27,
   "id": "a7eb4398",
   "metadata": {},
   "outputs": [
    {
     "name": "stdout",
     "output_type": "stream",
     "text": [
      "                                                Feature  Importance\n",
      "15                                Angle (deg)__skewness    0.001856\n",
      "16                                Angle (deg)__kurtosis    0.002327\n",
      "18                 Angle (deg)__absolute_sum_of_changes    0.003015\n",
      "33                        Angle (deg)__absolute_maximum    0.000187\n",
      "194          Angle (deg)__ar_coefficient__coeff_1__k_10    0.002082\n",
      "...                                                 ...         ...\n",
      "9212             Torque (Nm)__ratio_beyond_r_sigma__r_5    0.003836\n",
      "9218         Torque (Nm)__lempel_ziv_complexity__bins_2    0.004051\n",
      "9227             Torque (Nm)__fourier_entropy__bins_100    0.001990\n",
      "9228  Torque (Nm)__permutation_entropy__dimension_3_...    0.000263\n",
      "9233  Torque (Nm)__mean_n_absolute_max__number_of_ma...    0.003087\n",
      "\n",
      "[526 rows x 2 columns]\n"
     ]
    }
   ],
   "source": [
    "# Calculate the mean feature importance\n",
    "mean_importance = importance_df['Importance'].mean()\n",
    "\n",
    "# Print the features with an importance greater than the mean\n",
    "important_features = importance_df[importance_df['Importance'] > mean_importance]\n",
    "print(important_features)"
   ]
  },
  {
   "cell_type": "code",
   "execution_count": null,
   "id": "a8e3d523",
   "metadata": {},
   "outputs": [],
   "source": []
  }
 ],
 "metadata": {
  "kernelspec": {
   "display_name": "ML",
   "language": "python",
   "name": "python3"
  },
  "language_info": {
   "codemirror_mode": {
    "name": "ipython",
    "version": 3
   },
   "file_extension": ".py",
   "mimetype": "text/x-python",
   "name": "python",
   "nbconvert_exporter": "python",
   "pygments_lexer": "ipython3",
   "version": "3.11.5"
  }
 },
 "nbformat": 4,
 "nbformat_minor": 5
}
