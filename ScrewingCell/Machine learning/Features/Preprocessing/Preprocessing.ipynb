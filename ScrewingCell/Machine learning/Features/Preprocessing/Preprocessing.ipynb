{
 "cells": [
  {
   "cell_type": "code",
   "execution_count": 31,
   "id": "0887cf3e",
   "metadata": {},
   "outputs": [
    {
     "name": "stdout",
     "output_type": "stream",
     "text": [
      "              Source  Time (ms)          Type     Value\n",
      "0      i030520235006      0.000  Nset (1/min)  0.000000\n",
      "1      i030520235006      0.000   Angle (deg)  0.000000\n",
      "2      i030520235006      0.000    Depth (mm)  0.119141\n",
      "3      i030520235007      0.000  Nset (1/min)  0.000000\n",
      "4      i030520234001      0.000    Depth (mm)  0.121094\n",
      "...              ...        ...           ...       ...\n",
      "59102  t030520235006   2098.991  TCP_rx (rad)  1.221000\n",
      "59103  t030520235006   2098.991    TCP_z (mm)  1.500000\n",
      "59104  t030520235006   2098.991  TCP_rz (rad) -1.209000\n",
      "59105  t030520235006   2098.991    TCP_y (mm)  1.000000\n",
      "59106  t030520235006   2098.991  TCP_ry (rad)  1.162000\n",
      "\n",
      "[59107 rows x 4 columns]\n"
     ]
    }
   ],
   "source": [
    "import pandas as pd\n",
    "\n",
    "# Read the DataFrame from the HDF5 file\n",
    "df = pd.read_hdf(r\"C:\\Users\\GHB\\Desktop\\SCREW PROJECT\\Machine Learning\\Test.h5\", key='test_dataframe')\n",
    "\n",
    "print(df)\n",
    "\n"
   ]
  },
  {
   "cell_type": "code",
   "execution_count": 32,
   "id": "44e997ce",
   "metadata": {},
   "outputs": [
    {
     "name": "stdout",
     "output_type": "stream",
     "text": [
      "0        i\n",
      "1        i\n",
      "2        i\n",
      "3        i\n",
      "4        i\n",
      "        ..\n",
      "59102    t\n",
      "59103    t\n",
      "59104    t\n",
      "59105    t\n",
      "59106    t\n",
      "Name: Data source, Length: 59107, dtype: object\n"
     ]
    }
   ],
   "source": [
    "# Create a new column 'Type' containing the first letter of each entry in the 'Source' column\n",
    "df['Data source'] = df['Source'].str[0]\n",
    "print(df['Data source'])\n",
    "\n"
   ]
  },
  {
   "cell_type": "code",
   "execution_count": 33,
   "id": "2d76177a",
   "metadata": {},
   "outputs": [
    {
     "name": "stdout",
     "output_type": "stream",
     "text": [
      "Average sampling rate: 1000 Hz\n"
     ]
    }
   ],
   "source": [
    "#Calculating the sample rate of the screwdriver data\n",
    "\n",
    "import numpy as np\n",
    "\n",
    "screwdriver_data = df[df['Data source'] == 'i']\n",
    "# Group the screwdriver_data based on the 'Source' column (screw ID)\n",
    "grouped_screwdriver_data = screwdriver_data.groupby(['Source', 'Type'])\n",
    "\n",
    "# Initialize a list to store the sampling rates for each screw\n",
    "sampling_rates = []\n",
    "\n",
    "# Iterate through the groups (unique screws)\n",
    "for screw_id, screw_data in grouped_screwdriver_data:\n",
    "    # Calculate the differences between consecutive time values\n",
    "    time_diff = np.diff(screw_data['Time (ms)'])\n",
    "\n",
    "    # Compute the average time difference (delta) for the group\n",
    "    average_time_delta = np.mean(time_diff)\n",
    "\n",
    "    # Calculate the sampling rate for the group as the reciprocal of the average time difference\n",
    "    sampling_rate = 1000 / average_time_delta\n",
    "    sampling_rates.append(sampling_rate)\n",
    "\n",
    "# Calculate the overall average sampling rate across all groups\n",
    "average_sampling_rate = round(np.mean(sampling_rates))\n",
    "\n",
    "print(f'Average sampling rate: {average_sampling_rate} Hz')\n"
   ]
  },
  {
   "cell_type": "code",
   "execution_count": 34,
   "id": "400a3ceb",
   "metadata": {},
   "outputs": [],
   "source": [
    "# Resampling the robot data\n",
    "\n",
    "import pandas as pd\n",
    "import numpy as np\n",
    "\n",
    "\n",
    "# Separate robot and screwdriver data\n",
    "df_robot = df[df['Data source'] == 't']\n",
    "\n",
    "# Get unique robot IDs and sensor types\n",
    "unique_ids = df_robot['Source'].unique()\n",
    "unique_types = df_robot['Type'].unique()\n",
    "\n",
    "# Create an empty DataFrame to store resampled data\n",
    "df_robot_resampled = pd.DataFrame()\n",
    "\n",
    "for id in unique_ids:\n",
    "    for sensor_type in unique_types:\n",
    "        # Subset DataFrame for each unique ID and sensor type\n",
    "        df_id_type = df_robot[(df_robot['Source'] == id) & (df_robot['Type'] == sensor_type)]\n",
    "        \n",
    "        # Skip to next iteration if the DataFrame is empty\n",
    "        if df_id_type.empty:\n",
    "            continue\n",
    "        \n",
    "        # Define the new time array for 1000Hz, from start to end of old time\n",
    "        new_time = np.arange(df_id_type['Time (ms)'].min(), df_id_type['Time (ms)'].max(), 1)\n",
    "        \n",
    "        # Use linear interpolation to get the new values\n",
    "        new_values = np.interp(new_time, df_id_type['Time (ms)'].values, df_id_type['Value'].values)\n",
    "        \n",
    "        # Create a new DataFrame for the resampled data\n",
    "        df_id_type_resampled = pd.DataFrame({\n",
    "            'Source': id,\n",
    "            'Time (ms)': new_time,\n",
    "            'Type': sensor_type,\n",
    "            'Value': new_values\n",
    "        })\n",
    "        \n",
    "        # Append resampled DataFrame to the main resampled DataFrame\n",
    "        df_robot_resampled = df_robot_resampled.append(df_id_type_resampled,ignore_index=True)"
   ]
  },
  {
   "cell_type": "code",
   "execution_count": 35,
   "id": "395ebd2a",
   "metadata": {},
   "outputs": [],
   "source": [
    "df_robot_resampled.to_csv(r\"C:\\Users\\GHB\\Desktop\\SCREW PROJECT\\Machine Learning\\Test\\resampled.csv\")"
   ]
  },
  {
   "cell_type": "code",
   "execution_count": 14,
   "id": "47a278f2",
   "metadata": {},
   "outputs": [
    {
     "name": "stdout",
     "output_type": "stream",
     "text": [
      "              Source  Time (ms)          Type     Value Data source\n",
      "0      i030520235006      0.000  Nset (1/min)  0.000000           i\n",
      "1      i030520235006      0.000   Angle (deg)  0.000000           i\n",
      "2      i030520235006      0.000    Depth (mm)  0.119141           i\n",
      "3      i030520235007      0.000  Nset (1/min)  0.000000           i\n",
      "4      i030520234001      0.000    Depth (mm)  0.121094           i\n",
      "...              ...        ...           ...       ...         ...\n",
      "91428  t030520235007   1818.985  TCP_rz (rad) -1.210000           t\n",
      "91429  t030520235007   1819.985  TCP_rz (rad) -1.210000           t\n",
      "91430  t030520235007   1820.985  TCP_rz (rad) -1.210000           t\n",
      "91431  t030520235007   1821.985  TCP_rz (rad) -1.210000           t\n",
      "91432  t030520235007   1822.985  TCP_rz (rad) -1.210000           t\n",
      "\n",
      "[91433 rows x 5 columns]\n"
     ]
    }
   ],
   "source": [
    "# Creating a new resampled dataset\n",
    "\n",
    "df_screwdriver = df[df['Data source'] == 'i']\n",
    "\n",
    "# Concatenate the screwdriver data and the resampled robot data\n",
    "df_resampled = pd.concat([df_screwdriver, df_robot_resampled], ignore_index=True)\n",
    "df_resampled['Data source'] = df_resampled['Source'].str[0]\n",
    "print(df_resampled)"
   ]
  },
  {
   "cell_type": "code",
   "execution_count": 15,
   "id": "56999ae9",
   "metadata": {},
   "outputs": [],
   "source": [
    "df_resampled.to_csv(r\"C:\\Users\\GHB\\Desktop\\SCREW PROJECT\\Machine Learning\\Test\\resampled.csv\")"
   ]
  },
  {
   "cell_type": "code",
   "execution_count": 7,
   "id": "fcf2d026",
   "metadata": {},
   "outputs": [],
   "source": [
    "# Usiing a Min-Max scaler based on the Type of measurement\n",
    "\n",
    "\n",
    "from sklearn.preprocessing import MinMaxScaler\n",
    "\n",
    "# Initialize a MinMaxScaler\n",
    "scaler = MinMaxScaler(feature_range=(0, 1))\n",
    "\n",
    "# Apply MinMaxScaler separately to each type of sensor measurement\n",
    "for sensor_type in df_resampled['Type'].unique():\n",
    "    # Filter the data for the current sensor type\n",
    "    mask = (df_resampled['Type'] == sensor_type)\n",
    "\n",
    "    # Normalize the 'Value' column for the current sensor type\n",
    "    df_resampled.loc[mask, 'Value'] = scaler.fit_transform(df_resampled[mask][['Value']])"
   ]
  },
  {
   "cell_type": "code",
   "execution_count": 8,
   "id": "07906776",
   "metadata": {},
   "outputs": [
    {
     "name": "stdout",
     "output_type": "stream",
     "text": [
      "              Source  Time (ms)          Type     Value Data source\n",
      "0      i030520235006      0.000  Nset (1/min)  0.000000           i\n",
      "1      i030520235006      0.000   Angle (deg)  0.000000           i\n",
      "2      i030520235006      0.000    Depth (mm)  0.000153           i\n",
      "3      i030520235007      0.000  Nset (1/min)  0.000000           i\n",
      "4      i030520234001      0.000    Depth (mm)  0.000183           i\n",
      "...              ...        ...           ...       ...         ...\n",
      "91428  t030520235007   1818.985  TCP_rz (rad)  0.000000           t\n",
      "91429  t030520235007   1819.985  TCP_rz (rad)  0.000000           t\n",
      "91430  t030520235007   1820.985  TCP_rz (rad)  0.000000           t\n",
      "91431  t030520235007   1821.985  TCP_rz (rad)  0.000000           t\n",
      "91432  t030520235007   1822.985  TCP_rz (rad)  0.000000           t\n",
      "\n",
      "[91433 rows x 5 columns]\n"
     ]
    }
   ],
   "source": [
    "print(df_resampled)"
   ]
  },
  {
   "cell_type": "code",
   "execution_count": null,
   "id": "9c7e6493",
   "metadata": {},
   "outputs": [],
   "source": []
  }
 ],
 "metadata": {
  "kernelspec": {
   "display_name": "Python 3 (ipykernel)",
   "language": "python",
   "name": "python3"
  },
  "language_info": {
   "codemirror_mode": {
    "name": "ipython",
    "version": 3
   },
   "file_extension": ".py",
   "mimetype": "text/x-python",
   "name": "python",
   "nbconvert_exporter": "python",
   "pygments_lexer": "ipython3",
   "version": "3.9.7"
  }
 },
 "nbformat": 4,
 "nbformat_minor": 5
}
