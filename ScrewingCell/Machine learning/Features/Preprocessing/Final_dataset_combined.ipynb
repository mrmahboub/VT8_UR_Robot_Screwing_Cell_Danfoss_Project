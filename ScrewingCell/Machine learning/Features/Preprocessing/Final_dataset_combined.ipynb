{
 "cells": [
  {
   "cell_type": "code",
   "execution_count": 2,
   "id": "56552fdc",
   "metadata": {},
   "outputs": [
    {
     "name": "stdout",
     "output_type": "stream",
     "text": [
      "                  Source  Time (ms)          Type         Value\n",
      "0        i19052025001000        0.0  Nset (1/min)      0.000000\n",
      "1        i21062025004001        0.0   Torque (Nm)     -0.000704\n",
      "2        i21062025004001        0.0   Current (V)     -0.015869\n",
      "3        i21062025004001        0.0     Angle (°)      0.000000\n",
      "4        i21062025004001        0.0    Depth (mm)      0.134766\n",
      "...                  ...        ...           ...           ...\n",
      "5601810  i19052025001000     4127.0   Current (V)      0.437012\n",
      "5601811  i19052025001000     4127.0     Angle (°)  18594.267600\n",
      "5601812  i19052025001000     4127.0  Nset (1/min)      0.000000\n",
      "5601813  i19052025001000     4127.0    Depth (mm)     20.283203\n",
      "5601814  i19052025001000     4127.0   Torque (Nm)      0.697212\n",
      "\n",
      "[5601815 rows x 4 columns]\n"
     ]
    }
   ],
   "source": [
    "import os\n",
    "import pandas as pd\n",
    "\n",
    "# Iterate through all folders, subfolders, and files\n",
    "\n",
    "# Define the folder name RENAME HEEER!!!!!!!\n",
    "folder_path = r\"C:\\Users\\AMRAN\\OneDrive - Aalborg Universitet\\8. semester\\Projekt\\CODE\\Machine Learning\\Final data\\Intrinsic data\"\n",
    "dataframes_i = []\n",
    "\n",
    "\n",
    "for root, dirs, files in os.walk(folder_path):\n",
    "    for file in files:\n",
    "        # Check if the file is a CSV file\n",
    "        if file.endswith('.csv'):\n",
    "            # Load the CSV file into a DataFrame\n",
    "            file_path = os.path.join(root, file)\n",
    "            df = pd.read_csv(file_path)\n",
    "            \n",
    "            df[\"Source\"] = os.path.splitext(file)[0]\n",
    "            df_melted = pd.melt(df, id_vars=['Source', 'Time (ms)'], var_name='Type', value_name='Value')\n",
    "            \n",
    "            # Append the melted dataframe to the list of dataframes\n",
    "            dataframes_i.append(df_melted)\n",
    "\n",
    "# Concatenate all dataframes\n",
    "merged_df = pd.concat(dataframes_i, ignore_index=True)\n",
    "\n",
    "# Sort the merged dataframe by 'Time (ms)'\n",
    "merged_df.sort_values(by='Time (ms)', inplace=True)\n",
    "merged_df.reset_index(drop=True, inplace=True)\n",
    "\n",
    "print(merged_df)\n",
    "\n",
    "#merged_df.to_csv(r\"C:\\Users\\GHB\\Desktop\\SCREW PROJECT\\Machine Learning\\Test.csv\")\n",
    "\n",
    "# Save the DataFrame to an HDF5 file\n",
    "merged_df.to_hdf(r\"C:\\Users\\AMRAN\\OneDrive - Aalborg Universitet\\8. semester\\Projekt\\CODE\\Machine Learning\\Dataset(intrinsic).h5\", key='dataset', mode='w')"
   ]
  },
  {
   "cell_type": "code",
   "execution_count": 3,
   "id": "a1f26195",
   "metadata": {},
   "outputs": [],
   "source": [
    "# Save the DataFrame to an HDF5 file\n",
    "merged_df.to_hdf(r\"C:\\Users\\AMRAN\\OneDrive - Aalborg Universitet\\8. semester\\Projekt\\CODE\\Machine Learning\\Test.h5\", key='test_dataframe', mode='w')"
   ]
  },
  {
   "cell_type": "code",
   "execution_count": 4,
   "id": "797f9658",
   "metadata": {},
   "outputs": [
    {
     "name": "stdout",
     "output_type": "stream",
     "text": [
      "                  Source  Time (ms)          Type  Value\n",
      "0        i19052025001000      0.000  Nset (1/min)  0.000\n",
      "1        i19052025001035      0.000     Angle (°)  0.000\n",
      "2        i19052025001024      0.000     Angle (°)  0.000\n",
      "3        i20052025003032      0.000     Angle (°)  0.000\n",
      "4        i20052025003059      0.000  Nset (1/min)  0.000\n",
      "...                  ...        ...           ...    ...\n",
      "5464701  t19052025001000   4372.814  TCP_rx (rad)  1.231\n",
      "5464702  t19052025001000   4372.814  TCP_ry (rad)  1.178\n",
      "5464703  t19052025001000   4372.814    TCP_z (mm) -4.400\n",
      "5464704  t19052025001000   4372.814    TCP_y (mm)  2.100\n",
      "5464705  t19052025001000   4372.814  TCP_rz (rad) -1.207\n",
      "\n",
      "[5464706 rows x 4 columns]\n"
     ]
    }
   ],
   "source": [
    "# Read the DataFrame from the HDF5 file\n",
    "df = pd.read_hdf(r\"C:\\Users\\AMRAN\\OneDrive - Aalborg Universitet\\8. semester\\Projekt\\CODE\\Machine Learning\\Test.h5\", key='test_dataframe')\n",
    "\n",
    "print(df)"
   ]
  },
  {
   "cell_type": "code",
   "execution_count": null,
   "id": "ab88b625",
   "metadata": {},
   "outputs": [],
   "source": []
  }
 ],
 "metadata": {
  "kernelspec": {
   "display_name": "ML",
   "language": "python",
   "name": "python3"
  },
  "language_info": {
   "codemirror_mode": {
    "name": "ipython",
    "version": 3
   },
   "file_extension": ".py",
   "mimetype": "text/x-python",
   "name": "python",
   "nbconvert_exporter": "python",
   "pygments_lexer": "ipython3",
   "version": "3.11.5"
  }
 },
 "nbformat": 4,
 "nbformat_minor": 5
}
