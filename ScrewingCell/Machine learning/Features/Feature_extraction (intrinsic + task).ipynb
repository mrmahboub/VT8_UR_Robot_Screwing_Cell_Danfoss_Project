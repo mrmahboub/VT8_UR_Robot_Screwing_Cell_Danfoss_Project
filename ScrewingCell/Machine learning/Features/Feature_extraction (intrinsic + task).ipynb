{
  "cells": [
    {
      "cell_type": "code",
      "execution_count": 1,
      "metadata": {
        "colab": {
          "base_uri": "https://localhost:8080/"
        },
        "id": "dkdDwO_2oMxq",
        "outputId": "3e4733bc-837a-4819-ba71-e89a97967918"
      },
      "outputs": [
        {
          "name": "stdout",
          "output_type": "stream",
          "text": [
            "Requirement already satisfied: tsfresh in c:\\users\\amran\\anaconda3\\envs\\ml\\lib\\site-packages (0.0.post0.dev73+g71f68b9.dirty)\n",
            "Requirement already satisfied: requests>=2.9.1 in c:\\users\\amran\\anaconda3\\envs\\ml\\lib\\site-packages (from tsfresh) (2.32.3)\n",
            "Requirement already satisfied: numpy>=1.15.1 in c:\\users\\amran\\anaconda3\\envs\\ml\\lib\\site-packages (from tsfresh) (1.25.2)\n",
            "Requirement already satisfied: pandas>=0.25.0 in c:\\users\\amran\\anaconda3\\envs\\ml\\lib\\site-packages (from tsfresh) (2.2.3)\n",
            "Requirement already satisfied: scipy>=1.14.0 in c:\\users\\amran\\anaconda3\\envs\\ml\\lib\\site-packages (from tsfresh) (1.15.2)\n",
            "Requirement already satisfied: statsmodels>=0.13 in c:\\users\\amran\\anaconda3\\envs\\ml\\lib\\site-packages (from tsfresh) (0.14.4)\n",
            "Requirement already satisfied: patsy>=0.4.1 in c:\\users\\amran\\anaconda3\\envs\\ml\\lib\\site-packages (from tsfresh) (1.0.1)\n",
            "Requirement already satisfied: pywavelets in c:\\users\\amran\\anaconda3\\envs\\ml\\lib\\site-packages (from tsfresh) (1.8.0)\n",
            "Requirement already satisfied: scikit-learn>=0.22.0 in c:\\users\\amran\\anaconda3\\envs\\ml\\lib\\site-packages (from tsfresh) (1.3.1)\n",
            "Requirement already satisfied: tqdm>=4.10.0 in c:\\users\\amran\\anaconda3\\envs\\ml\\lib\\site-packages (from tsfresh) (4.67.1)\n",
            "Requirement already satisfied: stumpy>=1.7.2 in c:\\users\\amran\\anaconda3\\envs\\ml\\lib\\site-packages (from tsfresh) (1.13.0)\n",
            "Requirement already satisfied: cloudpickle in c:\\users\\amran\\anaconda3\\envs\\ml\\lib\\site-packages (from tsfresh) (3.1.1)\n",
            "Requirement already satisfied: python-dateutil>=2.8.2 in c:\\users\\amran\\anaconda3\\envs\\ml\\lib\\site-packages (from pandas>=0.25.0->tsfresh) (2.8.2)\n",
            "Requirement already satisfied: pytz>=2020.1 in c:\\users\\amran\\anaconda3\\envs\\ml\\lib\\site-packages (from pandas>=0.25.0->tsfresh) (2025.2)\n",
            "Requirement already satisfied: tzdata>=2022.7 in c:\\users\\amran\\anaconda3\\envs\\ml\\lib\\site-packages (from pandas>=0.25.0->tsfresh) (2025.2)\n",
            "Requirement already satisfied: charset_normalizer<4,>=2 in c:\\users\\amran\\anaconda3\\envs\\ml\\lib\\site-packages (from requests>=2.9.1->tsfresh) (3.4.2)\n",
            "Requirement already satisfied: idna<4,>=2.5 in c:\\users\\amran\\anaconda3\\envs\\ml\\lib\\site-packages (from requests>=2.9.1->tsfresh) (3.10)\n",
            "Requirement already satisfied: urllib3<3,>=1.21.1 in c:\\users\\amran\\anaconda3\\envs\\ml\\lib\\site-packages (from requests>=2.9.1->tsfresh) (2.4.0)\n",
            "Requirement already satisfied: certifi>=2017.4.17 in c:\\users\\amran\\anaconda3\\envs\\ml\\lib\\site-packages (from requests>=2.9.1->tsfresh) (2025.4.26)\n",
            "Requirement already satisfied: joblib>=1.1.1 in c:\\users\\amran\\anaconda3\\envs\\ml\\lib\\site-packages (from scikit-learn>=0.22.0->tsfresh) (1.3.2)\n",
            "Requirement already satisfied: threadpoolctl>=2.0.0 in c:\\users\\amran\\anaconda3\\envs\\ml\\lib\\site-packages (from scikit-learn>=0.22.0->tsfresh) (3.2.0)\n",
            "Requirement already satisfied: packaging>=21.3 in c:\\users\\amran\\anaconda3\\envs\\ml\\lib\\site-packages (from statsmodels>=0.13->tsfresh) (23.1)\n",
            "Requirement already satisfied: numba>=0.57.1 in c:\\users\\amran\\anaconda3\\envs\\ml\\lib\\site-packages (from stumpy>=1.7.2->tsfresh) (0.61.2)\n",
            "Requirement already satisfied: colorama in c:\\users\\amran\\anaconda3\\envs\\ml\\lib\\site-packages (from tqdm>=4.10.0->tsfresh) (0.4.6)\n",
            "Requirement already satisfied: llvmlite<0.45,>=0.44.0dev0 in c:\\users\\amran\\anaconda3\\envs\\ml\\lib\\site-packages (from numba>=0.57.1->stumpy>=1.7.2->tsfresh) (0.44.0)\n",
            "Requirement already satisfied: six>=1.5 in c:\\users\\amran\\anaconda3\\envs\\ml\\lib\\site-packages (from python-dateutil>=2.8.2->pandas>=0.25.0->tsfresh) (1.16.0)\n"
          ]
        }
      ],
      "source": [
        "!pip install tsfresh"
      ]
    },
    {
      "cell_type": "code",
      "execution_count": 2,
      "metadata": {
        "id": "OhL3t57DostG"
      },
      "outputs": [],
      "source": [
        "import os\n",
        "import pandas as pd\n",
        "import numpy as np\n",
        "from tsfresh import extract_features\n",
        "from tsfresh.feature_extraction import EfficientFCParameters, MinimalFCParameters, extract_features\n",
        "from tsfresh.utilities.dataframe_functions import make_forecasting_frame\n",
        "from tsfresh import select_features\n",
        "from tsfresh.utilities.dataframe_functions import impute"
      ]
    },
    {
      "cell_type": "code",
      "execution_count": null,
      "metadata": {},
      "outputs": [],
      "source": []
    },
    {
      "cell_type": "code",
      "execution_count": 3,
      "metadata": {
        "id": "z_v5sDQXoyO-"
      },
      "outputs": [],
      "source": [
        "# Read the DataFrame from the HDF5 file\n",
        "df = pd.read_hdf(r\"C:\\Users\\AMRAN\\OneDrive - Aalborg Universitet\\8. semester\\Projekt\\CODE\\Machine Learning/Dataset(intrinsic).h5\", key='dataset')"
      ]
    },
    {
      "cell_type": "code",
      "execution_count": 4,
      "metadata": {
        "colab": {
          "base_uri": "https://localhost:8080/"
        },
        "id": "1tbT7LhApEZ2",
        "outputId": "6eaa635e-6f96-49ad-defd-13d21fe21214"
      },
      "outputs": [
        {
          "name": "stdout",
          "output_type": "stream",
          "text": [
            "                  Source  Time (ms)          Type         Value\n",
            "0        i19052025001000        0.0  Nset (1/min)      0.000000\n",
            "1        i21062025004001        0.0   Torque (Nm)     -0.000704\n",
            "2        i21062025004001        0.0   Current (V)     -0.015869\n",
            "3        i21062025004001        0.0     Angle (°)      0.000000\n",
            "4        i21062025004001        0.0    Depth (mm)      0.134766\n",
            "...                  ...        ...           ...           ...\n",
            "5601810  i19052025001000     4127.0   Current (V)      0.437012\n",
            "5601811  i19052025001000     4127.0     Angle (°)  18594.267600\n",
            "5601812  i19052025001000     4127.0  Nset (1/min)      0.000000\n",
            "5601813  i19052025001000     4127.0    Depth (mm)     20.283203\n",
            "5601814  i19052025001000     4127.0   Torque (Nm)      0.697212\n",
            "\n",
            "[5601815 rows x 4 columns]\n"
          ]
        }
      ],
      "source": [
        "print(df)"
      ]
    },
    {
      "cell_type": "code",
      "execution_count": 5,
      "metadata": {
        "id": "yM2fCmbDfjYr"
      },
      "outputs": [],
      "source": [
        "df_intrinsic = df"
      ]
    },
    {
      "cell_type": "code",
      "execution_count": 10,
      "metadata": {
        "colab": {
          "base_uri": "https://localhost:8080/"
        },
        "id": "F694hSmEPRMk",
        "outputId": "53772ae8-999f-4e79-8ba9-f6ce70a5129e"
      },
      "outputs": [
        {
          "name": "stdout",
          "output_type": "stream",
          "text": [
            "                  Source  Time (ms)          Type         Value\n",
            "0        i19052025001000        0.0  Nset (1/min)      0.000000\n",
            "1        i21062025004001        0.0   Torque (Nm)     -0.000704\n",
            "2        i21062025004001        0.0   Current (V)     -0.015869\n",
            "3        i21062025004001        0.0     Angle (°)      0.000000\n",
            "4        i21062025004001        0.0    Depth (mm)      0.134766\n",
            "...                  ...        ...           ...           ...\n",
            "5601810  i19052025001000     4127.0   Current (V)      0.437012\n",
            "5601811  i19052025001000     4127.0     Angle (°)  18594.267600\n",
            "5601812  i19052025001000     4127.0  Nset (1/min)      0.000000\n",
            "5601813  i19052025001000     4127.0    Depth (mm)     20.283203\n",
            "5601814  i19052025001000     4127.0   Torque (Nm)      0.697212\n",
            "\n",
            "[5601815 rows x 4 columns]\n"
          ]
        }
      ],
      "source": [
        "df_intrinsic = df[df['Source'].str.startswith('i')]\n",
        "print(df_intrinsic)"
      ]
    },
    {
      "cell_type": "code",
      "execution_count": 11,
      "metadata": {
        "colab": {
          "base_uri": "https://localhost:8080/"
        },
        "id": "n9xPR3UjpKJ-",
        "outputId": "2f0c419d-1cc2-417f-a46b-5a9452e5a2db"
      },
      "outputs": [
        {
          "name": "stdout",
          "output_type": "stream",
          "text": [
            "                      id    time          kind         value\n",
            "0        i19052025001000     0.0  Nset (1/min)      0.000000\n",
            "1        i21062025004001     0.0   Torque (Nm)     -0.000704\n",
            "2        i21062025004001     0.0   Current (V)     -0.015869\n",
            "3        i21062025004001     0.0     Angle (°)      0.000000\n",
            "4        i21062025004001     0.0    Depth (mm)      0.134766\n",
            "...                  ...     ...           ...           ...\n",
            "5601810  i19052025001000  4127.0   Current (V)      0.437012\n",
            "5601811  i19052025001000  4127.0     Angle (°)  18594.267600\n",
            "5601812  i19052025001000  4127.0  Nset (1/min)      0.000000\n",
            "5601813  i19052025001000  4127.0    Depth (mm)     20.283203\n",
            "5601814  i19052025001000  4127.0   Torque (Nm)      0.697212\n",
            "\n",
            "[5601815 rows x 4 columns]\n"
          ]
        }
      ],
      "source": [
        "# Rename columns to meet tsfresh requirements\n",
        "df_intrinsic = df_intrinsic.rename(columns={'Source': 'id', 'Time (ms)': 'time', 'Type': 'kind', 'Value': 'value'})\n",
        "\n",
        "print(df_intrinsic)\n"
      ]
    },
    {
      "cell_type": "code",
      "execution_count": 12,
      "metadata": {
        "colab": {
          "base_uri": "https://localhost:8080/"
        },
        "id": "rKroSqIpv7Re",
        "outputId": "64648bd4-eedf-42d2-c67a-4b0064b14a2c"
      },
      "outputs": [
        {
          "name": "stdout",
          "output_type": "stream",
          "text": [
            "                       id    time          kind         value\n",
            "0        id19052025001000     0.0  Nset (1/min)      0.000000\n",
            "1        id21062025004001     0.0   Torque (Nm)     -0.000704\n",
            "2        id21062025004001     0.0   Current (V)     -0.015869\n",
            "3        id21062025004001     0.0     Angle (°)      0.000000\n",
            "4        id21062025004001     0.0    Depth (mm)      0.134766\n",
            "...                   ...     ...           ...           ...\n",
            "5601810  id19052025001000  4127.0   Current (V)      0.437012\n",
            "5601811  id19052025001000  4127.0     Angle (°)  18594.267600\n",
            "5601812  id19052025001000  4127.0  Nset (1/min)      0.000000\n",
            "5601813  id19052025001000  4127.0    Depth (mm)     20.283203\n",
            "5601814  id19052025001000  4127.0   Torque (Nm)      0.697212\n",
            "\n",
            "[5601815 rows x 4 columns]\n",
            "Unique IDs: 319\n",
            "Unique kinds: ['Nset (1/min)' 'Torque (Nm)' 'Current (V)' 'Angle (°)' 'Depth (mm)']\n",
            "Rows per ID-kind:\n",
            "id                kind        \n",
            "id21062025004034  Torque (Nm)     1498\n",
            "                  Nset (1/min)    1498\n",
            "                  Depth (mm)      1498\n",
            "                  Angle (°)       1498\n",
            "                  Current (V)     1498\n",
            "                                  ... \n",
            "id19052025001000  Torque (Nm)     4128\n",
            "                  Nset (1/min)    4128\n",
            "                  Depth (mm)      4128\n",
            "                  Current (V)     4128\n",
            "                  Angle (°)       4128\n",
            "Length: 1595, dtype: int64\n"
          ]
        }
      ],
      "source": [
        "df_intrinsic['id'] = 'id_' + df_intrinsic['id']\n",
        "\n",
        "# Replace \"idt\" with \"id\" in the column\n",
        "df_intrinsic['id'] = df_intrinsic['id'].str.replace('id_t', 'id', regex=True)\n",
        "df_intrinsic['id'] = df_intrinsic['id'].str.replace('id_i', 'id', regex=True)\n",
        "print(df_intrinsic)\n",
        "\n",
        "print(\"Unique IDs:\", df_intrinsic['id'].nunique())\n",
        "print(\"Unique kinds:\", df_intrinsic['kind'].unique())\n",
        "print(\"Rows per ID-kind:\")\n",
        "print(df_intrinsic.groupby(['id', 'kind']).size().sort_values())\n",
        "\n"
      ]
    },
    {
      "cell_type": "code",
      "execution_count": 13,
      "metadata": {
        "colab": {
          "background_save": true,
          "base_uri": "https://localhost:8080/"
        },
        "id": "yRJW2nxJv0tf",
        "outputId": "32ca9e49-8b01-406f-b693-e4ac84b1e3fe"
      },
      "outputs": [
        {
          "name": "stderr",
          "output_type": "stream",
          "text": [
            "Feature Extraction: 100%|██████████| 30/30 [04:18<00:00,  8.63s/it]\n"
          ]
        }
      ],
      "source": [
        "# Define feature extraction settings\n",
        "#settings = MinimalFCParameters()\n",
        "settings = EfficientFCParameters()\n",
        "\n",
        "# Extract features\n",
        "extracted_features = extract_features(df_intrinsic, column_id=\"id\", column_kind=\"kind\", column_sort=\"time\", column_value=\"value\", default_fc_parameters=EfficientFCParameters())\n"
      ]
    },
    {
      "cell_type": "code",
      "execution_count": 14,
      "metadata": {
        "colab": {
          "background_save": true
        },
        "id": "Ij4Rh6sY-bh8",
        "outputId": "48a66ad8-78b4-420f-ffe4-6bbaf81dff44"
      },
      "outputs": [
        {
          "name": "stderr",
          "output_type": "stream",
          "text": [
            "c:\\Users\\AMRAN\\anaconda3\\envs\\ML\\Lib\\site-packages\\tsfresh\\utilities\\dataframe_functions.py:198: RuntimeWarning: The columns ['Torque (Nm)__query_similarity_count__query_None__threshold_0.0'\n",
            " 'Angle (°)__query_similarity_count__query_None__threshold_0.0'\n",
            " 'Current (V)__query_similarity_count__query_None__threshold_0.0'\n",
            " 'Depth (mm)__friedrich_coefficients__coeff_0__m_3__r_30'\n",
            " 'Depth (mm)__friedrich_coefficients__coeff_1__m_3__r_30'\n",
            " 'Depth (mm)__friedrich_coefficients__coeff_2__m_3__r_30'\n",
            " 'Depth (mm)__friedrich_coefficients__coeff_3__m_3__r_30'\n",
            " 'Depth (mm)__max_langevin_fixed_point__m_3__r_30'\n",
            " 'Depth (mm)__query_similarity_count__query_None__threshold_0.0'\n",
            " 'Nset (1/min)__friedrich_coefficients__coeff_0__m_3__r_30'\n",
            " 'Nset (1/min)__friedrich_coefficients__coeff_1__m_3__r_30'\n",
            " 'Nset (1/min)__friedrich_coefficients__coeff_2__m_3__r_30'\n",
            " 'Nset (1/min)__friedrich_coefficients__coeff_3__m_3__r_30'\n",
            " 'Nset (1/min)__max_langevin_fixed_point__m_3__r_30'\n",
            " 'Nset (1/min)__query_similarity_count__query_None__threshold_0.0'] did not have any finite values. Filling with zeros.\n",
            "  warnings.warn(\n"
          ]
        }
      ],
      "source": [
        "# Step 2: Impute missing (NaN) values\n",
        "imputed_features = impute(extracted_features)"
      ]
    },
    {
      "cell_type": "code",
      "execution_count": 15,
      "metadata": {
        "colab": {
          "base_uri": "https://localhost:8080/"
        },
        "id": "yCxoL4U-po9t",
        "outputId": "ba05f363-1c11-4a24-daf2-07d5b6f7f3d6"
      },
      "outputs": [
        {
          "name": "stdout",
          "output_type": "stream",
          "text": [
            "                  Torque (Nm)__variance_larger_than_standard_deviation  \\\n",
            "id19052025001000                                                0.0      \n",
            "id19052025001001                                                0.0      \n",
            "id19052025001002                                                0.0      \n",
            "id19052025001003                                                0.0      \n",
            "id19052025001004                                                0.0      \n",
            "...                                                             ...      \n",
            "id22062025006013                                                0.0      \n",
            "id22062025006014                                                0.0      \n",
            "id22062025006015                                                0.0      \n",
            "id22062025006016                                                0.0      \n",
            "id22062025006017                                                0.0      \n",
            "\n",
            "                  Torque (Nm)__has_duplicate_max  \\\n",
            "id19052025001000                             0.0   \n",
            "id19052025001001                             0.0   \n",
            "id19052025001002                             0.0   \n",
            "id19052025001003                             0.0   \n",
            "id19052025001004                             0.0   \n",
            "...                                          ...   \n",
            "id22062025006013                             0.0   \n",
            "id22062025006014                             0.0   \n",
            "id22062025006015                             0.0   \n",
            "id22062025006016                             0.0   \n",
            "id22062025006017                             0.0   \n",
            "\n",
            "                  Torque (Nm)__has_duplicate_min  Torque (Nm)__has_duplicate  \\\n",
            "id19052025001000                             0.0                         1.0   \n",
            "id19052025001001                             0.0                         1.0   \n",
            "id19052025001002                             0.0                         1.0   \n",
            "id19052025001003                             0.0                         1.0   \n",
            "id19052025001004                             0.0                         1.0   \n",
            "...                                          ...                         ...   \n",
            "id22062025006013                             0.0                         1.0   \n",
            "id22062025006014                             0.0                         1.0   \n",
            "id22062025006015                             0.0                         1.0   \n",
            "id22062025006016                             0.0                         1.0   \n",
            "id22062025006017                             0.0                         1.0   \n",
            "\n",
            "                  Torque (Nm)__sum_values  Torque (Nm)__abs_energy  \\\n",
            "id19052025001000               469.718496               438.025481   \n",
            "id19052025001001               250.731375                23.048437   \n",
            "id19052025001002               247.871399                23.731861   \n",
            "id19052025001003               397.354270               373.799278   \n",
            "id19052025001004               248.031969                22.921605   \n",
            "...                                   ...                      ...   \n",
            "id22062025006013               164.770820                10.303548   \n",
            "id22062025006014               167.791366                10.221020   \n",
            "id22062025006015               168.118140                10.294807   \n",
            "id22062025006016               167.577977                10.296760   \n",
            "id22062025006017               167.796295                 9.984090   \n",
            "\n",
            "                  Torque (Nm)__mean_abs_change  Torque (Nm)__mean_change  \\\n",
            "id19052025001000                      0.012165              1.699630e-04   \n",
            "id19052025001001                      0.011086             -1.051126e-06   \n",
            "id19052025001002                      0.011630              0.000000e+00   \n",
            "id19052025001003                      0.011967              1.764254e-04   \n",
            "id19052025001004                      0.011604             -1.751876e-06   \n",
            "...                                        ...                       ...   \n",
            "id22062025006013                      0.010439             -5.251710e-07   \n",
            "id22062025006014                      0.010414             -1.400456e-06   \n",
            "id22062025006015                      0.010504              1.226008e-06   \n",
            "id22062025006016                      0.010343              1.401152e-06   \n",
            "id22062025006017                      0.010334              1.225399e-06   \n",
            "\n",
            "                  Torque (Nm)__mean_second_derivative_central  \\\n",
            "id19052025001000                                -8.534370e-07   \n",
            "id19052025001001                                -6.133092e-07   \n",
            "id19052025001002                                 2.628468e-07   \n",
            "id19052025001003                                -1.809954e-06   \n",
            "id19052025001004                                 1.752312e-07   \n",
            "...                                                       ...   \n",
            "id22062025006013                                -3.502009e-07   \n",
            "id22062025006014                                 5.253014e-07   \n",
            "id22062025006015                                -8.759379e-07   \n",
            "id22062025006016                                -1.226313e-06   \n",
            "id22062025006017                                -1.138153e-06   \n",
            "\n",
            "                  Torque (Nm)__median  ...  \\\n",
            "id19052025001000             0.057749  ...   \n",
            "id19052025001001             0.054228  ...   \n",
            "id19052025001002             0.055636  ...   \n",
            "id19052025001003             0.056340  ...   \n",
            "id19052025001004             0.054932  ...   \n",
            "...                               ...  ...   \n",
            "id22062025006013             0.040847  ...   \n",
            "id22062025006014             0.041551  ...   \n",
            "id22062025006015             0.041551  ...   \n",
            "id22062025006016             0.041551  ...   \n",
            "id22062025006017             0.041551  ...   \n",
            "\n",
            "                  Nset (1/min)__fourier_entropy__bins_5  \\\n",
            "id19052025001000                               0.090729   \n",
            "id19052025001001                               0.045395   \n",
            "id19052025001002                               0.045395   \n",
            "id19052025001003                               0.090729   \n",
            "id19052025001004                               0.045395   \n",
            "...                                                 ...   \n",
            "id22062025006013                               0.045395   \n",
            "id22062025006014                               0.045395   \n",
            "id22062025006015                               0.045395   \n",
            "id22062025006016                               0.045395   \n",
            "id22062025006017                               0.045395   \n",
            "\n",
            "                  Nset (1/min)__fourier_entropy__bins_10  \\\n",
            "id19052025001000                                0.136002   \n",
            "id19052025001001                                0.045395   \n",
            "id19052025001002                                0.045395   \n",
            "id19052025001003                                0.090729   \n",
            "id19052025001004                                0.045395   \n",
            "...                                                  ...   \n",
            "id22062025006013                                0.045395   \n",
            "id22062025006014                                0.045395   \n",
            "id22062025006015                                0.045395   \n",
            "id22062025006016                                0.045395   \n",
            "id22062025006017                                0.045395   \n",
            "\n",
            "                  Nset (1/min)__fourier_entropy__bins_100  \\\n",
            "id19052025001000                                 0.395585   \n",
            "id19052025001001                                 0.136002   \n",
            "id19052025001002                                 0.136002   \n",
            "id19052025001003                                 0.215617   \n",
            "id19052025001004                                 0.136002   \n",
            "...                                                   ...   \n",
            "id22062025006013                                 0.136002   \n",
            "id22062025006014                                 0.136002   \n",
            "id22062025006015                                 0.136002   \n",
            "id22062025006016                                 0.136002   \n",
            "id22062025006017                                 0.136002   \n",
            "\n",
            "                  Nset (1/min)__permutation_entropy__dimension_3__tau_1  \\\n",
            "id19052025001000                                           0.004520       \n",
            "id19052025001001                                           0.004627       \n",
            "id19052025001002                                           0.004627       \n",
            "id19052025001003                                           0.004763       \n",
            "id19052025001004                                           0.004627       \n",
            "...                                                             ...       \n",
            "id22062025006013                                           0.004624       \n",
            "id22062025006014                                           0.004624       \n",
            "id22062025006015                                           0.004626       \n",
            "id22062025006016                                           0.004626       \n",
            "id22062025006017                                           0.004624       \n",
            "\n",
            "                  Nset (1/min)__permutation_entropy__dimension_4__tau_1  \\\n",
            "id19052025001000                                           0.006781       \n",
            "id19052025001001                                           0.006942       \n",
            "id19052025001002                                           0.006942       \n",
            "id19052025001003                                           0.007146       \n",
            "id19052025001004                                           0.006942       \n",
            "...                                                             ...       \n",
            "id22062025006013                                           0.006938       \n",
            "id22062025006014                                           0.006938       \n",
            "id22062025006015                                           0.006941       \n",
            "id22062025006016                                           0.006941       \n",
            "id22062025006017                                           0.006938       \n",
            "\n",
            "                  Nset (1/min)__permutation_entropy__dimension_5__tau_1  \\\n",
            "id19052025001000                                           0.009044       \n",
            "id19052025001001                                           0.009258       \n",
            "id19052025001002                                           0.009258       \n",
            "id19052025001003                                           0.009530       \n",
            "id19052025001004                                           0.009258       \n",
            "...                                                             ...       \n",
            "id22062025006013                                           0.009252       \n",
            "id22062025006014                                           0.009252       \n",
            "id22062025006015                                           0.009256       \n",
            "id22062025006016                                           0.009256       \n",
            "id22062025006017                                           0.009252       \n",
            "\n",
            "                  Nset (1/min)__permutation_entropy__dimension_6__tau_1  \\\n",
            "id19052025001000                                           0.011307       \n",
            "id19052025001001                                           0.011575       \n",
            "id19052025001002                                           0.011575       \n",
            "id19052025001003                                           0.011915       \n",
            "id19052025001004                                           0.011575       \n",
            "...                                                             ...       \n",
            "id22062025006013                                           0.011568       \n",
            "id22062025006014                                           0.011568       \n",
            "id22062025006015                                           0.011573       \n",
            "id22062025006016                                           0.011573       \n",
            "id22062025006017                                           0.011568       \n",
            "\n",
            "                  Nset (1/min)__permutation_entropy__dimension_7__tau_1  \\\n",
            "id19052025001000                                           0.013571       \n",
            "id19052025001001                                           0.013893       \n",
            "id19052025001002                                           0.013893       \n",
            "id19052025001003                                           0.014301       \n",
            "id19052025001004                                           0.013893       \n",
            "...                                                             ...       \n",
            "id22062025006013                                           0.013884       \n",
            "id22062025006014                                           0.013884       \n",
            "id22062025006015                                           0.013890       \n",
            "id22062025006016                                           0.013890       \n",
            "id22062025006017                                           0.013884       \n",
            "\n",
            "                  Nset (1/min)__query_similarity_count__query_None__threshold_0.0  \\\n",
            "id19052025001000                                                0.0                 \n",
            "id19052025001001                                                0.0                 \n",
            "id19052025001002                                                0.0                 \n",
            "id19052025001003                                                0.0                 \n",
            "id19052025001004                                                0.0                 \n",
            "...                                                             ...                 \n",
            "id22062025006013                                                0.0                 \n",
            "id22062025006014                                                0.0                 \n",
            "id22062025006015                                                0.0                 \n",
            "id22062025006016                                                0.0                 \n",
            "id22062025006017                                                0.0                 \n",
            "\n",
            "                  Nset (1/min)__mean_n_absolute_max__number_of_maxima_7  \n",
            "id19052025001000                                              800.0      \n",
            "id19052025001001                                              800.0      \n",
            "id19052025001002                                              800.0      \n",
            "id19052025001003                                              800.0      \n",
            "id19052025001004                                              800.0      \n",
            "...                                                             ...      \n",
            "id22062025006013                                              800.0      \n",
            "id22062025006014                                              800.0      \n",
            "id22062025006015                                              800.0      \n",
            "id22062025006016                                              800.0      \n",
            "id22062025006017                                              800.0      \n",
            "\n",
            "[319 rows x 3885 columns]\n"
          ]
        }
      ],
      "source": [
        "print(imputed_features)"
      ]
    },
    {
      "cell_type": "code",
      "execution_count": 16,
      "metadata": {
        "colab": {
          "background_save": true
        },
        "id": "iWfvz3LnO4n2"
      },
      "outputs": [],
      "source": [
        "# Drop columns which only contain NaN or infinity after imputation\n",
        "imputed_features = imputed_features.replace([np.inf, -np.inf], np.nan)\n",
        "imputed_features = imputed_features.dropna(axis=1, how=\"all\")"
      ]
    },
    {
      "cell_type": "code",
      "execution_count": 17,
      "metadata": {
        "colab": {
          "background_save": true
        },
        "id": "DXLV-bBRyoX8"
      },
      "outputs": [],
      "source": [
        "imputed_features.to_csv(\"tsfresh_efficient_features(intrinsic).csv\")"
      ]
    },
    {
      "cell_type": "code",
      "execution_count": 18,
      "metadata": {
        "colab": {
          "base_uri": "https://localhost:8080/"
        },
        "id": "o6b6N6w0qhnO",
        "outputId": "fd109b32-234c-4173-e087-a8d98986ca7e"
      },
      "outputs": [
        {
          "name": "stdout",
          "output_type": "stream",
          "text": [
            "Index(['Torque (Nm)__variance_larger_than_standard_deviation',\n",
            "       'Torque (Nm)__has_duplicate_max', 'Torque (Nm)__has_duplicate_min',\n",
            "       'Torque (Nm)__has_duplicate', 'Torque (Nm)__sum_values',\n",
            "       'Torque (Nm)__abs_energy', 'Torque (Nm)__mean_abs_change',\n",
            "       'Torque (Nm)__mean_change',\n",
            "       'Torque (Nm)__mean_second_derivative_central', 'Torque (Nm)__median',\n",
            "       ...\n",
            "       'Nset (1/min)__fourier_entropy__bins_5',\n",
            "       'Nset (1/min)__fourier_entropy__bins_10',\n",
            "       'Nset (1/min)__fourier_entropy__bins_100',\n",
            "       'Nset (1/min)__permutation_entropy__dimension_3__tau_1',\n",
            "       'Nset (1/min)__permutation_entropy__dimension_4__tau_1',\n",
            "       'Nset (1/min)__permutation_entropy__dimension_5__tau_1',\n",
            "       'Nset (1/min)__permutation_entropy__dimension_6__tau_1',\n",
            "       'Nset (1/min)__permutation_entropy__dimension_7__tau_1',\n",
            "       'Nset (1/min)__query_similarity_count__query_None__threshold_0.0',\n",
            "       'Nset (1/min)__mean_n_absolute_max__number_of_maxima_7'],\n",
            "      dtype='object', length=3885)\n"
          ]
        }
      ],
      "source": [
        "print(extracted_features.columns)"
      ]
    },
    {
      "cell_type": "code",
      "execution_count": 19,
      "metadata": {
        "colab": {
          "base_uri": "https://localhost:8080/"
        },
        "id": "8zkzJlvIpvSe",
        "outputId": "bacb30be-8938-49a2-fd9a-f08aa2b5f1e3"
      },
      "outputs": [
        {
          "name": "stdout",
          "output_type": "stream",
          "text": [
            "Original: N, Encoded: 0\n",
            "Original: NS, Encoded: 1\n",
            "Original: RS, Encoded: 2\n",
            "Original: UT, Encoded: 3\n",
            "     Torque (Nm)__variance_larger_than_standard_deviation  \\\n",
            "0                                                  0.0      \n",
            "233                                                0.0      \n",
            "1                                                  0.0      \n",
            "2                                                  0.0      \n",
            "3                                                  0.0      \n",
            "..                                                 ...      \n",
            "194                                                0.0      \n",
            "195                                                0.0      \n",
            "196                                                0.0      \n",
            "197                                                0.0      \n",
            "198                                                0.0      \n",
            "\n",
            "     Torque (Nm)__has_duplicate_max  Torque (Nm)__has_duplicate_min  \\\n",
            "0                               0.0                             0.0   \n",
            "233                             0.0                             0.0   \n",
            "1                               0.0                             0.0   \n",
            "2                               0.0                             0.0   \n",
            "3                               0.0                             0.0   \n",
            "..                              ...                             ...   \n",
            "194                             0.0                             0.0   \n",
            "195                             0.0                             0.0   \n",
            "196                             0.0                             0.0   \n",
            "197                             0.0                             0.0   \n",
            "198                             0.0                             0.0   \n",
            "\n",
            "     Torque (Nm)__has_duplicate  Torque (Nm)__sum_values  \\\n",
            "0                           1.0               469.718496   \n",
            "233                         1.0               250.731375   \n",
            "1                           1.0               247.871399   \n",
            "2                           1.0               397.354270   \n",
            "3                           1.0               248.031969   \n",
            "..                          ...                      ...   \n",
            "194                         1.0               164.770820   \n",
            "195                         1.0               167.791366   \n",
            "196                         1.0               168.118140   \n",
            "197                         1.0               167.577977   \n",
            "198                         1.0               167.796295   \n",
            "\n",
            "     Torque (Nm)__abs_energy  Torque (Nm)__mean_abs_change  \\\n",
            "0                 438.025481                      0.012165   \n",
            "233                23.048437                      0.011086   \n",
            "1                  23.731861                      0.011630   \n",
            "2                 373.799278                      0.011967   \n",
            "3                  22.921605                      0.011604   \n",
            "..                       ...                           ...   \n",
            "194                10.303548                      0.010439   \n",
            "195                10.221020                      0.010414   \n",
            "196                10.294807                      0.010504   \n",
            "197                10.296760                      0.010343   \n",
            "198                 9.984090                      0.010334   \n",
            "\n",
            "     Torque (Nm)__mean_change  Torque (Nm)__mean_second_derivative_central  \\\n",
            "0                1.699630e-04                                -8.534370e-07   \n",
            "233             -1.051126e-06                                -6.133092e-07   \n",
            "1                0.000000e+00                                 2.628468e-07   \n",
            "2                1.764254e-04                                -1.809954e-06   \n",
            "3               -1.751876e-06                                 1.752312e-07   \n",
            "..                        ...                                          ...   \n",
            "194             -5.251710e-07                                -3.502009e-07   \n",
            "195             -1.400456e-06                                 5.253014e-07   \n",
            "196              1.226008e-06                                -8.759379e-07   \n",
            "197              1.401152e-06                                -1.226313e-06   \n",
            "198              1.225399e-06                                -1.138153e-06   \n",
            "\n",
            "     Torque (Nm)__median  ...  Nset (1/min)__fourier_entropy__bins_100  \\\n",
            "0               0.057749  ...                                 0.395585   \n",
            "233             0.054228  ...                                 0.136002   \n",
            "1               0.055636  ...                                 0.136002   \n",
            "2               0.056340  ...                                 0.215617   \n",
            "3               0.054932  ...                                 0.136002   \n",
            "..                   ...  ...                                      ...   \n",
            "194             0.040847  ...                                 0.136002   \n",
            "195             0.041551  ...                                 0.136002   \n",
            "196             0.041551  ...                                 0.136002   \n",
            "197             0.041551  ...                                 0.136002   \n",
            "198             0.041551  ...                                 0.136002   \n",
            "\n",
            "     Nset (1/min)__permutation_entropy__dimension_3__tau_1  \\\n",
            "0                                             0.004520       \n",
            "233                                           0.004627       \n",
            "1                                             0.004627       \n",
            "2                                             0.004763       \n",
            "3                                             0.004627       \n",
            "..                                                 ...       \n",
            "194                                           0.004624       \n",
            "195                                           0.004624       \n",
            "196                                           0.004626       \n",
            "197                                           0.004626       \n",
            "198                                           0.004624       \n",
            "\n",
            "     Nset (1/min)__permutation_entropy__dimension_4__tau_1  \\\n",
            "0                                             0.006781       \n",
            "233                                           0.006942       \n",
            "1                                             0.006942       \n",
            "2                                             0.007146       \n",
            "3                                             0.006942       \n",
            "..                                                 ...       \n",
            "194                                           0.006938       \n",
            "195                                           0.006938       \n",
            "196                                           0.006941       \n",
            "197                                           0.006941       \n",
            "198                                           0.006938       \n",
            "\n",
            "     Nset (1/min)__permutation_entropy__dimension_5__tau_1  \\\n",
            "0                                             0.009044       \n",
            "233                                           0.009258       \n",
            "1                                             0.009258       \n",
            "2                                             0.009530       \n",
            "3                                             0.009258       \n",
            "..                                                 ...       \n",
            "194                                           0.009252       \n",
            "195                                           0.009252       \n",
            "196                                           0.009256       \n",
            "197                                           0.009256       \n",
            "198                                           0.009252       \n",
            "\n",
            "     Nset (1/min)__permutation_entropy__dimension_6__tau_1  \\\n",
            "0                                             0.011307       \n",
            "233                                           0.011575       \n",
            "1                                             0.011575       \n",
            "2                                             0.011915       \n",
            "3                                             0.011575       \n",
            "..                                                 ...       \n",
            "194                                           0.011568       \n",
            "195                                           0.011568       \n",
            "196                                           0.011573       \n",
            "197                                           0.011573       \n",
            "198                                           0.011568       \n",
            "\n",
            "     Nset (1/min)__permutation_entropy__dimension_7__tau_1  \\\n",
            "0                                             0.013571       \n",
            "233                                           0.013893       \n",
            "1                                             0.013893       \n",
            "2                                             0.014301       \n",
            "3                                             0.013893       \n",
            "..                                                 ...       \n",
            "194                                           0.013884       \n",
            "195                                           0.013884       \n",
            "196                                           0.013890       \n",
            "197                                           0.013890       \n",
            "198                                           0.013884       \n",
            "\n",
            "     Nset (1/min)__query_similarity_count__query_None__threshold_0.0  \\\n",
            "0                                                  0.0                 \n",
            "233                                                0.0                 \n",
            "1                                                  0.0                 \n",
            "2                                                  0.0                 \n",
            "3                                                  0.0                 \n",
            "..                                                 ...                 \n",
            "194                                                0.0                 \n",
            "195                                                0.0                 \n",
            "196                                                0.0                 \n",
            "197                                                0.0                 \n",
            "198                                                0.0                 \n",
            "\n",
            "     Nset (1/min)__mean_n_absolute_max__number_of_maxima_7                id  \\\n",
            "0                                                800.0      id19052025001000   \n",
            "233                                              800.0      id19052025001001   \n",
            "1                                                800.0      id19052025001002   \n",
            "2                                                800.0      id19052025001003   \n",
            "3                                                800.0      id19052025001004   \n",
            "..                                                 ...                   ...   \n",
            "194                                              800.0      id22062025006013   \n",
            "195                                              800.0      id22062025006014   \n",
            "196                                              800.0      id22062025006015   \n",
            "197                                              800.0      id22062025006016   \n",
            "198                                              800.0      id22062025006017   \n",
            "\n",
            "     Label  \n",
            "0        0  \n",
            "233      3  \n",
            "1        0  \n",
            "2        0  \n",
            "3        0  \n",
            "..     ...  \n",
            "194      1  \n",
            "195      1  \n",
            "196      1  \n",
            "197      1  \n",
            "198      1  \n",
            "\n",
            "[319 rows x 3887 columns]\n"
          ]
        }
      ],
      "source": [
        "from sklearn.model_selection import train_test_split\n",
        "from sklearn.ensemble import RandomForestClassifier\n",
        "from sklearn.metrics import accuracy_score\n",
        "from sklearn.preprocessing import LabelEncoder\n",
        "\n",
        "# Assume that labels are in a separate dataframe\n",
        "labels = pd.read_csv(r\"C:\\Users\\AMRAN\\OneDrive - Aalborg Universitet\\8. semester\\Projekt\\CODE\\Machine Learning\\Data/Labels_names.csv\")\n",
        "labels = labels.rename(columns={'File Name': 'id'})\n",
        "\n",
        "# Create a LabelEncoder instance\n",
        "encoder = LabelEncoder()\n",
        "\n",
        "# Fit the encoder and transform the labels\n",
        "labels['Label'] = encoder.fit_transform(labels['Label'])\n",
        "\n",
        "# Print original labels and their encoded values\n",
        "for original, encoded in zip(encoder.classes_, range(len(encoder.classes_))):\n",
        "    print(f'Original: {original}, Encoded: {encoded}')\n",
        "\n",
        "# Merge features and labels\n",
        "data = extracted_features.merge(labels, left_index=True, right_on='id')\n",
        "\n",
        "print(data)"
      ]
    },
    {
      "cell_type": "code",
      "execution_count": 20,
      "metadata": {
        "colab": {
          "base_uri": "https://localhost:8080/"
        },
        "id": "ElB4HlLCxdh1",
        "outputId": "15043d7f-2504-4020-a70d-74c72133af2b"
      },
      "outputs": [
        {
          "name": "stdout",
          "output_type": "stream",
          "text": [
            "Accuracy: 0.90625\n"
          ]
        }
      ],
      "source": [
        "# Split data into features and target variable\n",
        "X = data.drop(columns=['Label'])\n",
        "X = data.drop(columns=['id'])\n",
        "y = data['Label']\n",
        "\n",
        "# Split data into training and testing sets\n",
        "X_train, X_test, y_train, y_test = train_test_split(X, y, test_size=0.4, random_state=42)\n",
        "\n",
        "# Define the model\n",
        "model = RandomForestClassifier(n_estimators=100, random_state=42)\n",
        "\n",
        "# Train the model\n",
        "model.fit(X_train, y_train)\n",
        "\n",
        "# Make predictions on the test set\n",
        "y_pred = model.predict(X_test)\n",
        "\n",
        "# Evaluate the model\n",
        "print('Accuracy:', accuracy_score(y_test, y_pred))"
      ]
    },
    {
      "cell_type": "code",
      "execution_count": 21,
      "metadata": {
        "colab": {
          "base_uri": "https://localhost:8080/"
        },
        "id": "u3oYwe-yx4bL",
        "outputId": "f127a198-e474-4a3d-f9ae-cf14fafea927"
      },
      "outputs": [
        {
          "name": "stdout",
          "output_type": "stream",
          "text": [
            "              precision    recall  f1-score   support\n",
            "\n",
            "           0       0.98      0.97      0.98        63\n",
            "           1       0.75      0.92      0.83        13\n",
            "           2       0.90      0.56      0.69        16\n",
            "           3       0.85      0.94      0.89        36\n",
            "\n",
            "    accuracy                           0.91       128\n",
            "   macro avg       0.87      0.85      0.85       128\n",
            "weighted avg       0.91      0.91      0.90       128\n",
            "\n"
          ]
        }
      ],
      "source": [
        "from sklearn.metrics import classification_report\n",
        "\n",
        "# Evaluate the model's performance\n",
        "print(classification_report(y_test, y_pred))"
      ]
    }
  ],
  "metadata": {
    "colab": {
      "provenance": []
    },
    "kernelspec": {
      "display_name": "ML",
      "language": "python",
      "name": "python3"
    },
    "language_info": {
      "codemirror_mode": {
        "name": "ipython",
        "version": 3
      },
      "file_extension": ".py",
      "mimetype": "text/x-python",
      "name": "python",
      "nbconvert_exporter": "python",
      "pygments_lexer": "ipython3",
      "version": "3.11.5"
    }
  },
  "nbformat": 4,
  "nbformat_minor": 0
}
