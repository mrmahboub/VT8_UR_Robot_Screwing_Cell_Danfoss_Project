{
 "cells": [
  {
   "cell_type": "code",
   "execution_count": 1,
   "id": "bef54d1b",
   "metadata": {},
   "outputs": [],
   "source": [
    "import pandas as pd"
   ]
  },
  {
   "cell_type": "code",
   "execution_count": 3,
   "id": "7f623bba",
   "metadata": {},
   "outputs": [
    {
     "name": "stdout",
     "output_type": "stream",
     "text": [
      "     Time (ms)  TCP_x (mm)  TCP_y (mm)  TCP_z (mm)  TCP_rx (mm)  TCP_ry (mm)  \\\n",
      "0        1.984       156.0      -779.8       242.1        1.228        1.171   \n",
      "1        4.961       156.0      -779.8       242.1        1.228        1.171   \n",
      "2        6.448       156.0      -779.8       242.1        1.228        1.171   \n",
      "3        7.936       156.0      -779.8       242.1        1.228        1.171   \n",
      "4        9.426       156.0      -779.8       242.1        1.228        1.171   \n",
      "..         ...         ...         ...         ...          ...          ...   \n",
      "878   2090.024       155.3      -778.8       243.6        1.221        1.162   \n",
      "879   2091.512       155.3      -778.8       243.6        1.221        1.162   \n",
      "880   2093.000       155.3      -778.8       243.6        1.221        1.162   \n",
      "881   2096.970       155.3      -778.8       243.6        1.221        1.162   \n",
      "882   2098.991       155.3      -778.8       243.6        1.221        1.162   \n",
      "\n",
      "     TCP_rz (mm)  Robot_I (A)  \n",
      "0         -1.208        1.126  \n",
      "1         -1.208        1.126  \n",
      "2         -1.208        1.126  \n",
      "3         -1.208        1.126  \n",
      "4         -1.208        1.126  \n",
      "..           ...          ...  \n",
      "878       -1.209        0.845  \n",
      "879       -1.209        0.845  \n",
      "880       -1.209        0.845  \n",
      "881       -1.209        0.845  \n",
      "882       -1.209        0.775  \n",
      "\n",
      "[883 rows x 8 columns]\n"
     ]
    }
   ],
   "source": [
    "df = pd.read_csv(r\"C:\\Users\\GHB\\Desktop\\Screwcell dataset\\Task data\\N\\t030520235006.csv\")\n",
    "print(df)"
   ]
  },
  {
   "cell_type": "code",
   "execution_count": 2,
   "id": "202c919a",
   "metadata": {},
   "outputs": [
    {
     "ename": "NameError",
     "evalue": "name 'df' is not defined",
     "output_type": "error",
     "traceback": [
      "\u001b[31m---------------------------------------------------------------------------\u001b[39m",
      "\u001b[31mNameError\u001b[39m                                 Traceback (most recent call last)",
      "\u001b[36mCell\u001b[39m\u001b[36m \u001b[39m\u001b[32mIn[2]\u001b[39m\u001b[32m, line 5\u001b[39m\n\u001b[32m      2\u001b[39m reference_position = {\u001b[33m'\u001b[39m\u001b[33mTCP_x (mm)\u001b[39m\u001b[33m'\u001b[39m: \u001b[32m0\u001b[39m, \u001b[33m'\u001b[39m\u001b[33mTCP_y (mm)\u001b[39m\u001b[33m'\u001b[39m: \u001b[32m0\u001b[39m, \u001b[33m'\u001b[39m\u001b[33mTCP_z (mm)\u001b[39m\u001b[33m'\u001b[39m: \u001b[32m0\u001b[39m}\n\u001b[32m      4\u001b[39m \u001b[38;5;66;03m# Calculate the offsets for TCP_X, TCP_Y, and TCP_Z\u001b[39;00m\n\u001b[32m----> \u001b[39m\u001b[32m5\u001b[39m offsets = \u001b[43m{\u001b[49m\u001b[43mkey\u001b[49m\u001b[43m:\u001b[49m\u001b[43m \u001b[49m\u001b[43mdf\u001b[49m\u001b[43m.\u001b[49m\u001b[43miloc\u001b[49m\u001b[43m[\u001b[49m\u001b[32;43m0\u001b[39;49m\u001b[43m]\u001b[49m\u001b[43m[\u001b[49m\u001b[43mkey\u001b[49m\u001b[43m]\u001b[49m\u001b[43m \u001b[49m\u001b[43m-\u001b[49m\u001b[43m \u001b[49m\u001b[43mreference_position\u001b[49m\u001b[43m[\u001b[49m\u001b[43mkey\u001b[49m\u001b[43m]\u001b[49m\u001b[43m \u001b[49m\u001b[38;5;28;43;01mfor\u001b[39;49;00m\u001b[43m \u001b[49m\u001b[43mkey\u001b[49m\u001b[43m \u001b[49m\u001b[38;5;129;43;01min\u001b[39;49;00m\u001b[43m \u001b[49m\u001b[43mreference_position\u001b[49m\u001b[43m}\u001b[49m\n\u001b[32m      7\u001b[39m \u001b[38;5;66;03m# Apply the offsets to the DataFrame\u001b[39;00m\n\u001b[32m      8\u001b[39m \u001b[38;5;28;01mfor\u001b[39;00m key \u001b[38;5;129;01min\u001b[39;00m offsets:\n",
      "\u001b[36mCell\u001b[39m\u001b[36m \u001b[39m\u001b[32mIn[2]\u001b[39m\u001b[32m, line 5\u001b[39m, in \u001b[36m<dictcomp>\u001b[39m\u001b[34m(.0)\u001b[39m\n\u001b[32m      2\u001b[39m reference_position = {\u001b[33m'\u001b[39m\u001b[33mTCP_x (mm)\u001b[39m\u001b[33m'\u001b[39m: \u001b[32m0\u001b[39m, \u001b[33m'\u001b[39m\u001b[33mTCP_y (mm)\u001b[39m\u001b[33m'\u001b[39m: \u001b[32m0\u001b[39m, \u001b[33m'\u001b[39m\u001b[33mTCP_z (mm)\u001b[39m\u001b[33m'\u001b[39m: \u001b[32m0\u001b[39m}\n\u001b[32m      4\u001b[39m \u001b[38;5;66;03m# Calculate the offsets for TCP_X, TCP_Y, and TCP_Z\u001b[39;00m\n\u001b[32m----> \u001b[39m\u001b[32m5\u001b[39m offsets = {key: \u001b[43mdf\u001b[49m.iloc[\u001b[32m0\u001b[39m][key] - reference_position[key] \u001b[38;5;28;01mfor\u001b[39;00m key \u001b[38;5;129;01min\u001b[39;00m reference_position}\n\u001b[32m      7\u001b[39m \u001b[38;5;66;03m# Apply the offsets to the DataFrame\u001b[39;00m\n\u001b[32m      8\u001b[39m \u001b[38;5;28;01mfor\u001b[39;00m key \u001b[38;5;129;01min\u001b[39;00m offsets:\n",
      "\u001b[31mNameError\u001b[39m: name 'df' is not defined"
     ]
    }
   ],
   "source": [
    "# Define the reference position\n",
    "reference_position = {'TCP_x (mm)': 0, 'TCP_y (mm)': 0, 'TCP_z (mm)': 0}\n",
    "\n",
    "# Calculate the offsets for TCP_X, TCP_Y, and TCP_Z\n",
    "offsets = {key: df.iloc[0][key] - reference_position[key] for key in reference_position}\n",
    "\n",
    "# Apply the offsets to the DataFrame\n",
    "for key in offsets:\n",
    "    df[key] -= offsets[key]"
   ]
  },
  {
   "cell_type": "code",
   "execution_count": 8,
   "id": "0c11aaeb",
   "metadata": {},
   "outputs": [
    {
     "name": "stdout",
     "output_type": "stream",
     "text": [
      "     Time (ms)  TCP_x (mm)  TCP_y (mm)  TCP_z (mm)  TCP_rx (mm)  TCP_ry (mm)  \\\n",
      "0        1.984         0.0         0.0         0.0        1.228        1.171   \n",
      "1        4.961         0.0         0.0         0.0        1.228        1.171   \n",
      "2        6.448         0.0         0.0         0.0        1.228        1.171   \n",
      "3        7.936         0.0         0.0         0.0        1.228        1.171   \n",
      "4        9.426         0.0         0.0         0.0        1.228        1.171   \n",
      "..         ...         ...         ...         ...          ...          ...   \n",
      "878   2090.024        -0.7         1.0         1.5        1.221        1.162   \n",
      "879   2091.512        -0.7         1.0         1.5        1.221        1.162   \n",
      "880   2093.000        -0.7         1.0         1.5        1.221        1.162   \n",
      "881   2096.970        -0.7         1.0         1.5        1.221        1.162   \n",
      "882   2098.991        -0.7         1.0         1.5        1.221        1.162   \n",
      "\n",
      "     TCP_rz (mm)  Robot_I (A)  \n",
      "0         -1.208        1.126  \n",
      "1         -1.208        1.126  \n",
      "2         -1.208        1.126  \n",
      "3         -1.208        1.126  \n",
      "4         -1.208        1.126  \n",
      "..           ...          ...  \n",
      "878       -1.209        0.845  \n",
      "879       -1.209        0.845  \n",
      "880       -1.209        0.845  \n",
      "881       -1.209        0.845  \n",
      "882       -1.209        0.775  \n",
      "\n",
      "[883 rows x 8 columns]\n"
     ]
    }
   ],
   "source": [
    "print(df)"
   ]
  },
  {
   "cell_type": "code",
   "execution_count": 3,
   "id": "e59340e0",
   "metadata": {},
   "outputs": [],
   "source": [
    "# Preprocessing the starting position of the Robot data\n",
    "\n",
    "\n",
    "import pandas as pd\n",
    "import os\n",
    "\n",
    "# Define the folder name\n",
    "folder_path = r\"C:\\Users\\AMRAN\\OneDrive - Aalborg Universitet\\8. semester\\Projekt\\CODE\\Machine Learning\\Final data\\Task data\"\n",
    "\n",
    "# Define the reference position\n",
    "reference_position = {'TCP_x (mm)': 0, 'TCP_y (mm)': 0, 'TCP_z (mm)': 0}\n",
    "\n",
    "# Iterate through all folders, subfolders, and files\n",
    "for root, dirs, files in os.walk(folder_path):\n",
    "    for file in files:\n",
    "        # Check if the file is a CSV file\n",
    "        if file.endswith('.csv'):\n",
    "            # Load the CSV file into a DataFrame\n",
    "            file_path = os.path.join(root, file)\n",
    "            df = pd.read_csv(file_path)\n",
    "\n",
    "            # Calculate the offsets for TCP_X, TCP_Y, and TCP_Z\n",
    "            offsets = {key: df.iloc[0][key] - reference_position[key] for key in reference_position}\n",
    "\n",
    "            # Apply the offsets to the DataFrame\n",
    "            for key in offsets:\n",
    "                df[key] -= offsets[key]\n",
    "\n",
    "            # Overwrite the original CSV file with the modified DataFrame\n",
    "            df.to_csv(file_path, index=False)\n",
    "\n"
   ]
  },
  {
   "cell_type": "code",
   "execution_count": 4,
   "id": "9ef463de",
   "metadata": {},
   "outputs": [],
   "source": [
    "# Renaming the incorrect TCP_ry column names\n",
    "import os\n",
    "import pandas as pd\n",
    "# Define the folder name\n",
    "folder_path = r\"C:\\Users\\AMRAN\\OneDrive - Aalborg Universitet\\8. semester\\Projekt\\CODE\\Machine Learning\\Final data\\Task data\"\n",
    "\n",
    "# Iterate through all folders, subfolders, and files\n",
    "for root, dirs, files in os.walk(folder_path):\n",
    "    for file in files:\n",
    "        # Check if the file is a CSV file\n",
    "        if file.endswith('.csv'):\n",
    "            # Load the CSV file into a DataFrame\n",
    "            file_path = os.path.join(root, file)\n",
    "            df = pd.read_csv(file_path)\n",
    "            \n",
    "            # Check if the column with index 5 is not named \"TCP_ry (mm)\"\n",
    "            if df.columns[4] != \"TCP_rx (rad)\":\n",
    "                # Rename the column and save the changes to the same file\n",
    "                df.rename(columns={df.columns[4]: \"TCP_rx (rad)\"}, inplace=True)\n",
    "                df.to_csv(file_path, index=False)\n",
    "\n",
    "            # Check if the column with index 5 is not named \"TCP_ry (mm)\"\n",
    "            if df.columns[5] != \"TCP_ry (rad)\":\n",
    "                # Rename the column and save the changes to the same file\n",
    "                df.rename(columns={df.columns[5]: \"TCP_ry (rad)\"}, inplace=True)\n",
    "                df.to_csv(file_path, index=False)\n",
    "                \n",
    "            # Check if the column with index 5 is not named \"TCP_ry (mm)\"\n",
    "            if df.columns[6] != \"TCP_rz (rad)\":\n",
    "                # Rename the column and save the changes to the same file\n",
    "                df.rename(columns={df.columns[6]: \"TCP_rz (rad)\"}, inplace=True)\n",
    "                df.to_csv(file_path, index=False)"
   ]
  },
  {
   "cell_type": "code",
   "execution_count": null,
   "id": "d3d81dcb",
   "metadata": {},
   "outputs": [],
   "source": []
  }
 ],
 "metadata": {
  "kernelspec": {
   "display_name": "ML",
   "language": "python",
   "name": "python3"
  },
  "language_info": {
   "codemirror_mode": {
    "name": "ipython",
    "version": 3
   },
   "file_extension": ".py",
   "mimetype": "text/x-python",
   "name": "python",
   "nbconvert_exporter": "python",
   "pygments_lexer": "ipython3",
   "version": "3.11.5"
  }
 },
 "nbformat": 4,
 "nbformat_minor": 5
}
